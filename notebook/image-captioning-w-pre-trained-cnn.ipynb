{
 "cells": [
  {
   "cell_type": "markdown",
   "id": "b417b17d",
   "metadata": {
    "id": "b417b17d"
   },
   "source": [
    "# Load Pre-Trained CNN Image Classification Network\n",
    "- Load in a pre-trained CNN image classification to leverage transfer learning"
   ]
  },
  {
   "cell_type": "code",
   "execution_count": 1,
   "id": "cwi79SbdNTHC",
   "metadata": {
    "colab": {
     "base_uri": "https://localhost:8080/"
    },
    "executionInfo": {
     "elapsed": 14148,
     "status": "ok",
     "timestamp": 1667344729193,
     "user": {
      "displayName": "Ken Trinh",
      "userId": "00929063106744050420"
     },
     "user_tz": 240
    },
    "id": "cwi79SbdNTHC",
    "outputId": "a4fb3318-9025-49c5-914c-68787cc775f4"
   },
   "outputs": [
    {
     "ename": "ModuleNotFoundError",
     "evalue": "No module named 'google.colab'",
     "output_type": "error",
     "traceback": [
      "\u001b[1;31m---------------------------------------------------------------------------\u001b[0m",
      "\u001b[1;31mModuleNotFoundError\u001b[0m                       Traceback (most recent call last)",
      "Input \u001b[1;32mIn [1]\u001b[0m, in \u001b[0;36m<cell line: 1>\u001b[1;34m()\u001b[0m\n\u001b[1;32m----> 1\u001b[0m \u001b[38;5;28;01mfrom\u001b[39;00m \u001b[38;5;21;01mgoogle\u001b[39;00m\u001b[38;5;21;01m.\u001b[39;00m\u001b[38;5;21;01mcolab\u001b[39;00m \u001b[38;5;28;01mimport\u001b[39;00m drive\n\u001b[0;32m      2\u001b[0m drive\u001b[38;5;241m.\u001b[39mmount(\u001b[38;5;124m'\u001b[39m\u001b[38;5;124m/content/drive\u001b[39m\u001b[38;5;124m'\u001b[39m)\n",
      "\u001b[1;31mModuleNotFoundError\u001b[0m: No module named 'google.colab'"
     ]
    }
   ],
   "source": [
    "from google.colab import drive\n",
    "drive.mount('/content/drive')"
   ]
  },
  {
   "cell_type": "code",
   "execution_count": 3,
   "id": "ca8adc4d",
   "metadata": {
    "executionInfo": {
     "elapsed": 4157,
     "status": "ok",
     "timestamp": 1667344733348,
     "user": {
      "displayName": "Ken Trinh",
      "userId": "00929063106744050420"
     },
     "user_tz": 240
    },
    "id": "ca8adc4d"
   },
   "outputs": [],
   "source": [
    "# import relevant libraries\n",
    "import os\n",
    "import json\n",
    "import yaml\n",
    "import nltk\n",
    "import joblib\n",
    "\n",
    "import pandas as pd\n",
    "import numpy as np\n",
    "import matplotlib.pyplot as plt\n",
    "from PIL import Image\n",
    "from tqdm.notebook import tqdm\n",
    "\n",
    "import sklearn as sk\n",
    "from sklearn.feature_extraction.text import CountVectorizer\n",
    "\n",
    "import tensorflow as tf\n",
    "from tensorflow import keras\n",
    "from tensorflow.keras.applications.vgg16 import VGG16        # Load in based VGG16 model\n",
    "# from keras.preprocessing.image import ImageDataGenerator"
   ]
  },
  {
   "cell_type": "code",
   "execution_count": 4,
   "id": "560530d3",
   "metadata": {
    "colab": {
     "base_uri": "https://localhost:8080/"
    },
    "executionInfo": {
     "elapsed": 791,
     "status": "ok",
     "timestamp": 1667344734136,
     "user": {
      "displayName": "Ken Trinh",
      "userId": "00929063106744050420"
     },
     "user_tz": 240
    },
    "id": "560530d3",
    "outputId": "db65c7e4-e284-4ae4-d8af-3637b8dd5774"
   },
   "outputs": [
    {
     "name": "stderr",
     "output_type": "stream",
     "text": [
      "[nltk_data] Downloading package punkt to\n",
      "[nltk_data]     C:\\Users\\ktrin\\AppData\\Roaming\\nltk_data...\n",
      "[nltk_data]   Package punkt is already up-to-date!\n"
     ]
    },
    {
     "data": {
      "text/plain": [
       "True"
      ]
     },
     "execution_count": 4,
     "metadata": {},
     "output_type": "execute_result"
    }
   ],
   "source": [
    "nltk.download('punkt')"
   ]
  },
  {
   "cell_type": "code",
   "execution_count": 5,
   "id": "ae869185",
   "metadata": {
    "colab": {
     "base_uri": "https://localhost:8080/"
    },
    "executionInfo": {
     "elapsed": 3991,
     "status": "ok",
     "timestamp": 1667344738125,
     "user": {
      "displayName": "Ken Trinh",
      "userId": "00929063106744050420"
     },
     "user_tz": 240
    },
    "id": "ae869185",
    "outputId": "569a3ac7-2c0f-4c68-e8ff-2b04a7b1e20b"
   },
   "outputs": [
    {
     "name": "stdout",
     "output_type": "stream",
     "text": [
      "[<keras.engine.input_layer.InputLayer object at 0x000002839F1F49A0>, <keras.layers.convolutional.conv2d.Conv2D object at 0x000002839F22D2E0>, <keras.layers.convolutional.conv2d.Conv2D object at 0x000002839F22D550>, <keras.layers.pooling.max_pooling2d.MaxPooling2D object at 0x000002839F22DF10>, <keras.layers.convolutional.conv2d.Conv2D object at 0x000002839F22D850>, <keras.layers.convolutional.conv2d.Conv2D object at 0x000002839F380070>, <keras.layers.pooling.max_pooling2d.MaxPooling2D object at 0x000002839F3899D0>, <keras.layers.convolutional.conv2d.Conv2D object at 0x000002839F3898E0>, <keras.layers.convolutional.conv2d.Conv2D object at 0x000002839F380790>, <keras.layers.convolutional.conv2d.Conv2D object at 0x000002839F390280>, <keras.layers.pooling.max_pooling2d.MaxPooling2D object at 0x000002839F3B0C70>, <keras.layers.convolutional.conv2d.Conv2D object at 0x000002839F3B0D00>, <keras.layers.convolutional.conv2d.Conv2D object at 0x000002839F3B0BE0>, <keras.layers.convolutional.conv2d.Conv2D object at 0x000002839F3BC7C0>, <keras.layers.pooling.max_pooling2d.MaxPooling2D object at 0x000002839F3B6280>, <keras.layers.convolutional.conv2d.Conv2D object at 0x000002839F3B62B0>, <keras.layers.convolutional.conv2d.Conv2D object at 0x000002839F3C10D0>, <keras.layers.convolutional.conv2d.Conv2D object at 0x000002839F3C9940>, <keras.layers.pooling.max_pooling2d.MaxPooling2D object at 0x000002839F3C9340>]\n"
     ]
    }
   ],
   "source": [
    "# load in the base model\n",
    "# freeze all the weights (avoid overfitting)\n",
    "cnn_model = VGG16(input_shape = (224, 224, 3),    # Shape of our images\n",
    "                    include_top = False,           # Leave out the last fully connected layer\n",
    "                    weights = 'imagenet')\n",
    "\n",
    "for layer in cnn_model.layers:\n",
    "    layer.trainable = False\n",
    "print(cnn_model.layers)"
   ]
  },
  {
   "cell_type": "code",
   "execution_count": 4,
   "id": "4e5cd0bd",
   "metadata": {
    "colab": {
     "base_uri": "https://localhost:8080/",
     "height": 252
    },
    "executionInfo": {
     "elapsed": 1848,
     "status": "error",
     "timestamp": 1667339884060,
     "user": {
      "displayName": "Ken Trinh",
      "userId": "00929063106744050420"
     },
     "user_tz": 240
    },
    "id": "4e5cd0bd",
    "outputId": "b150a1ef-d68c-4b0e-92f2-e52f899dd5a5"
   },
   "outputs": [
    {
     "name": "stdout",
     "output_type": "stream",
     "text": [
      "Train:\n",
      " [(203564, 'train2017_resized/000000203564.jpg', 'A bicycle replica with a clock as the front wheel.'), (322141, 'train2017_resized/000000322141.jpg', 'A room with blue walls and a white sink and door.'), (16977, 'train2017_resized/000000016977.jpg', 'A car that seems to be parked illegally behind a legally parked car'), (106140, 'train2017_resized/000000106140.jpg', 'A large passenger airplane flying through the air.'), (106140, 'train2017_resized/000000106140.jpg', 'There is a GOL plane taking off in a partly cloudy sky.')]\n",
      "\n",
      "Validation:\n",
      " [(179765, 'val2017_resized/000000179765.jpg', 'A black Honda motorcycle parked in front of a garage.'), (179765, 'val2017_resized/000000179765.jpg', 'A Honda motorcycle parked in a grass driveway'), (190236, 'val2017_resized/000000190236.jpg', 'An office cubicle with four different types of computers.'), (331352, 'val2017_resized/000000331352.jpg', 'A small closed toilet in a cramped space.'), (517069, 'val2017_resized/000000517069.jpg', 'Two women waiting at a bench next to a street.')]\n"
     ]
    }
   ],
   "source": [
    "train2017 = []\n",
    "val2017 = []\n",
    "\n",
    "train_file = open(\"../data/annotations/captions_train2017.json\")\n",
    "val_file = open(\"../data//annotations/captions_val2017.json\")\n",
    "train_json = json.load(train_file)\n",
    "val_json = json.load(val_file)\n",
    "# train_json['caption']\n",
    "\n",
    "def parse_image(json_data, output_list=train2017, mode=\"train\"):\n",
    "    \"\"\"\n",
    "        Class to parse image into a list of tuple\n",
    "        -----------------------------------------\n",
    "        Input:\n",
    "        - json_data: dataset in json format\n",
    "        - output_list: empty list to store the tuple of data\n",
    "        - mode: either train dataset or validation dataset specification\n",
    "        Output:\n",
    "        - list of tuple\n",
    "    \"\"\"\n",
    "    prepend_urL = \"\"\n",
    "    if mode == \"train\":\n",
    "        prepend_urL = \"train2017_resized/\"\n",
    "    elif mode == \"validation\":\n",
    "        prepend_urL = \"val2017_resized/\"\n",
    "    else:\n",
    "        print(\"Please Input Train or Validation for dataset parameters\")\n",
    "    \n",
    "    # fetch the data in a workable format\n",
    "    captions = json_data['annotations']\n",
    "    images = {i[\"id\"]: i[\"file_name\"] for i in json_data['images']}\n",
    "\n",
    "    # parse json data into a tuple to generate a list of tuples for both train/validation\n",
    "    i = 0\n",
    "    prev_image_id = 0\n",
    "\n",
    "    for caption in captions:\n",
    "        if i == 20000:\n",
    "            break\n",
    "        \n",
    "        image_id = caption['image_id']\n",
    "\n",
    "        if prev_image_id != image_id:\n",
    "            i += 1\n",
    "\n",
    "        image_caption = caption['caption']\n",
    "        image_url = prepend_urL+images[image_id]\n",
    "        output_list.append((image_id, image_url, image_caption))\n",
    "        prev_image_id = image_id\n",
    "\n",
    "    return output_list\n",
    "\n",
    "\n",
    "train2017 = parse_image(train_json, output_list=train2017, mode=\"train\")\n",
    "val2017 = parse_image(val_json, output_list=val2017, mode=\"validation\")\n",
    "print(\"Train:\\n\", train2017[:5])\n",
    "print(\"\\nValidation:\\n\", val2017[:5])"
   ]
  },
  {
   "cell_type": "markdown",
   "id": "c8974eaf",
   "metadata": {
    "id": "c8974eaf"
   },
   "source": [
    "# Load Image Data\n",
    "Load image data as numpy pixels. Each image contains a caption, append the caption with the respected image in the given list "
   ]
  },
  {
   "cell_type": "code",
   "execution_count": 5,
   "id": "a8b68c52",
   "metadata": {
    "colab": {
     "base_uri": "https://localhost:8080/",
     "height": 49,
     "referenced_widgets": [
      "6479d9ce68784fb0ab886027ae1b4055",
      "c1539bfde70542818b6ce097c0e06fec",
      "828ca8efa2134f1293ca4e4552fd08eb",
      "350d2547894249fd80327061d8b32e01",
      "70cf6f6548aa4d2eb54bd29572cb445a",
      "ce3373d554e942e2ad494285fd65140d",
      "7e349ccf266342e5bd2b45f00610ff9c",
      "49efe6466ab84d85bcbc95e5f448d57e",
      "6c79339ad72a4430ba35a1bb0c4d3643",
      "e037af3f7ff041a8a9de499e95dfcc2e",
      "83b5f7cbf5a94720a80877d3350c0e98"
     ]
    },
    "executionInfo": {
     "elapsed": 962,
     "status": "ok",
     "timestamp": 1667323295485,
     "user": {
      "displayName": "Ken Trinh",
      "userId": "00929063106744050420"
     },
     "user_tz": 240
    },
    "id": "a8b68c52",
    "outputId": "d271c7ed-42a1-4c11-f660-53fd1d7394f5"
   },
   "outputs": [
    {
     "data": {
      "application/vnd.jupyter.widget-view+json": {
       "model_id": "da0f2b5044ff41a48281d607ccc37d74",
       "version_major": 2,
       "version_minor": 0
      },
      "text/plain": [
       "  0%|          | 0/20169 [00:00<?, ?it/s]"
      ]
     },
     "metadata": {},
     "output_type": "display_data"
    }
   ],
   "source": [
    "DATA_DIR = \"../data\"\n",
    "\n",
    "def pil_loader(path):\n",
    "    \"\"\"\n",
    "        Function to load the image into memory\n",
    "    \"\"\"\n",
    "    with open(path, 'r+b') as f:\n",
    "        img = Image.open(f)\n",
    "        return img.convert('RGB'), f\n",
    "\n",
    "# build a list of training data\n",
    "train_image_data = []\n",
    "train_caption_data = []\n",
    "for i in tqdm(train2017):\n",
    "    img, f = pil_loader(f\"{DATA_DIR}/{i[1]}\")\n",
    "    f.close()\n",
    "    train_image_data.append(np.array(img))\n",
    "    train_caption_data.append(i[2])\n"
   ]
  },
  {
   "cell_type": "code",
   "execution_count": 6,
   "id": "a6a28634",
   "metadata": {
    "id": "a6a28634"
   },
   "outputs": [
    {
     "name": "stdout",
     "output_type": "stream",
     "text": [
      "(20169, 224, 224, 3) (20169,)\n"
     ]
    }
   ],
   "source": [
    "train_image_data = np.array(train_image_data)\n",
    "train_caption_data = np.array(train_caption_data)\n",
    "print(train_image_data.shape, train_caption_data.shape)"
   ]
  },
  {
   "cell_type": "code",
   "execution_count": 3,
   "id": "af3f402d",
   "metadata": {
    "id": "af3f402d"
   },
   "outputs": [
    {
     "ename": "NameError",
     "evalue": "name 'train_image_data' is not defined",
     "output_type": "error",
     "traceback": [
      "\u001b[1;31m---------------------------------------------------------------------------\u001b[0m",
      "\u001b[1;31mNameError\u001b[0m                                 Traceback (most recent call last)",
      "\u001b[1;32me:\\UNIXSpace\\Git_Desktop\\Ai-Models\\image-captioning\\notebook\\image-captioning-w-pre-trained-cnn.ipynb Cell 10\u001b[0m in \u001b[0;36m<cell line: 2>\u001b[1;34m()\u001b[0m\n\u001b[0;32m      <a href='vscode-notebook-cell:/e%3A/UNIXSpace/Git_Desktop/Ai-Models/image-captioning/notebook/image-captioning-w-pre-trained-cnn.ipynb#X12sZmlsZQ%3D%3D?line=0'>1</a>\u001b[0m \u001b[39m# output the dataset as a pickle so we don't have to load it everytime\u001b[39;00m\n\u001b[1;32m----> <a href='vscode-notebook-cell:/e%3A/UNIXSpace/Git_Desktop/Ai-Models/image-captioning/notebook/image-captioning-w-pre-trained-cnn.ipynb#X12sZmlsZQ%3D%3D?line=1'>2</a>\u001b[0m joblib\u001b[39m.\u001b[39mdump(train_image_data, \u001b[39m\"\u001b[39m\u001b[39mimage_data.pkl\u001b[39m\u001b[39m\"\u001b[39m)\n\u001b[0;32m      <a href='vscode-notebook-cell:/e%3A/UNIXSpace/Git_Desktop/Ai-Models/image-captioning/notebook/image-captioning-w-pre-trained-cnn.ipynb#X12sZmlsZQ%3D%3D?line=2'>3</a>\u001b[0m joblib\u001b[39m.\u001b[39mdump(train_caption_data, \u001b[39m\"\u001b[39m\u001b[39mimage_caption_data.pkl\u001b[39m\u001b[39m\"\u001b[39m)\n",
      "\u001b[1;31mNameError\u001b[0m: name 'train_image_data' is not defined"
     ]
    }
   ],
   "source": [
    "# output the dataset as a pickle so we don't have to load it everytime\n",
    "joblib.dump(train_image_data, \"image_data.pkl\")\n",
    "joblib.dump(train_caption_data, \"image_caption_data.pkl\")"
   ]
  },
  {
   "cell_type": "code",
   "execution_count": null,
   "id": "QZJt_xzZQQZ3",
   "metadata": {
    "executionInfo": {
     "elapsed": 20815,
     "status": "ok",
     "timestamp": 1667344763966,
     "user": {
      "displayName": "Ken Trinh",
      "userId": "00929063106744050420"
     },
     "user_tz": 240
    },
    "id": "QZJt_xzZQQZ3"
   },
   "outputs": [],
   "source": []
  },
  {
   "cell_type": "markdown",
   "id": "cb42415f",
   "metadata": {
    "id": "cb42415f"
   },
   "source": [
    "# Data Pre-Processing\n",
    "Text based data need to be treated:\n",
    "1. stop word removal\n",
    "2. tokenized\n",
    "3. build vocab"
   ]
  },
  {
   "cell_type": "code",
   "execution_count": 6,
   "id": "cad0305e",
   "metadata": {},
   "outputs": [],
   "source": [
    "# import data\n",
    "train_image_data = joblib.load(\"./image_data.pkl\")\n",
    "train_caption_data = joblib.load(\"./image_caption_data.pkl\")"
   ]
  },
  {
   "cell_type": "code",
   "execution_count": 7,
   "id": "62ac1ed2",
   "metadata": {
    "colab": {
     "base_uri": "https://localhost:8080/",
     "height": 104,
     "referenced_widgets": [
      "8aa70e5cb1564ea48b509db0c174e65a",
      "21aba10715f44ba0836179c2c5430178",
      "dcd2f999830845908b324aa75b5b3633",
      "52b7e649f2a44fb494c4cec62842fc18",
      "2a19bba952724d36acea4b5d1d2d54a4",
      "5ae0db5c367b4b52aa3754b945b5c1c1",
      "f74b32474aac49089b60502f399ec473",
      "e360f1a711de44dea8bf86cd3be51727",
      "962f8f4567f3412f95d031fbb9c269ad",
      "2865adbc4bf84f47872e1f56419b4eae",
      "e78d25c3916a4bc2a1f835f19d123f21"
     ]
    },
    "executionInfo": {
     "elapsed": 2968,
     "status": "ok",
     "timestamp": 1667344766929,
     "user": {
      "displayName": "Ken Trinh",
      "userId": "00929063106744050420"
     },
     "user_tz": 240
    },
    "id": "62ac1ed2",
    "outputId": "245dace6-26e2-4c3d-ded6-db679aef6f90"
   },
   "outputs": [
    {
     "data": {
      "application/vnd.jupyter.widget-view+json": {
       "model_id": "2760ab6639844e16aeb91074f6a730e8",
       "version_major": 2,
       "version_minor": 0
      },
      "text/plain": [
       "  0%|          | 0/20169 [00:00<?, ?it/s]"
      ]
     },
     "metadata": {},
     "output_type": "display_data"
    },
    {
     "name": "stderr",
     "output_type": "stream",
     "text": [
      "C:\\Users\\ktrin\\miniconda3\\envs\\tf\\lib\\site-packages\\sklearn\\utils\\deprecation.py:87: FutureWarning: Function get_feature_names is deprecated; get_feature_names is deprecated in 1.0 and will be removed in 1.2. Please use get_feature_names_out instead.\n",
      "  warnings.warn(msg, category=FutureWarning)\n"
     ]
    }
   ],
   "source": [
    "# build a vocabulary using sklearn count vectorizer to create a vocab from the most frequent words\n",
    "MAX_VOCAB_SIZE = 20000\n",
    "\n",
    "input_captions = []\n",
    "\n",
    "max_caption_length = -1 \n",
    "\n",
    "for caption in tqdm(train_caption_data):\n",
    "    tokenized_caption = nltk.word_tokenize(caption, language='english')\n",
    "\n",
    "    if len(tokenized_caption) > max_caption_length:\n",
    "      max_caption_length = len(tokenized_caption)\n",
    "\n",
    "    caption = (' '.join(tokenized_caption)).lower()\n",
    "    input_captions.append(caption)\n",
    "\n",
    "\n",
    "vectorizer = CountVectorizer(max_features=MAX_VOCAB_SIZE)\n",
    "vectorizer.fit(input_captions)\n",
    "vocab = vectorizer.get_feature_names()\n",
    "MAX_VOCAB_SIZE = len(vocab)"
   ]
  },
  {
   "cell_type": "code",
   "execution_count": 8,
   "id": "d043657e",
   "metadata": {
    "colab": {
     "base_uri": "https://localhost:8080/"
    },
    "executionInfo": {
     "elapsed": 167,
     "status": "ok",
     "timestamp": 1667344767093,
     "user": {
      "displayName": "Ken Trinh",
      "userId": "00929063106744050420"
     },
     "user_tz": 240
    },
    "id": "d043657e",
    "outputId": "b91e221b-1fc4-466d-c62b-477359d0e2c3"
   },
   "outputs": [
    {
     "name": "stdout",
     "output_type": "stream",
     "text": [
      "5941\n"
     ]
    }
   ],
   "source": [
    "print(len(vocab))"
   ]
  },
  {
   "cell_type": "code",
   "execution_count": 9,
   "id": "1df6e59c",
   "metadata": {
    "executionInfo": {
     "elapsed": 6,
     "status": "ok",
     "timestamp": 1667344767093,
     "user": {
      "displayName": "Ken Trinh",
      "userId": "00929063106744050420"
     },
     "user_tz": 240
    },
    "id": "1df6e59c"
   },
   "outputs": [],
   "source": [
    "# turn vocab into a dictionary of words and token id\n",
    "id_vocab_dict = {}\n",
    "vocab_id_dict = {}\n",
    "\n",
    "for sid, svocab in enumerate(vocab):\n",
    "  id_vocab_dict[sid] = svocab\n",
    "  vocab_id_dict[svocab] = sid\n",
    "\n",
    "id_vocab_dict[MAX_VOCAB_SIZE] = \"<unk>\"\n",
    "id_vocab_dict[MAX_VOCAB_SIZE + 1] = \"<start>\"\n",
    "id_vocab_dict[MAX_VOCAB_SIZE + 2] = \"<end>\"\n",
    "id_vocab_dict[MAX_VOCAB_SIZE + 3] = \"<pad>\"\n",
    "\n",
    "vocab_id_dict[\"<unk>\"] = MAX_VOCAB_SIZE\n",
    "vocab_id_dict[\"<start>\"] = MAX_VOCAB_SIZE + 1\n",
    "vocab_id_dict[\"<end>\"] = MAX_VOCAB_SIZE + 2\n",
    "vocab_id_dict[\"<pad>\"] = MAX_VOCAB_SIZE + 3\n"
   ]
  },
  {
   "cell_type": "code",
   "execution_count": 10,
   "id": "d52377cd",
   "metadata": {
    "executionInfo": {
     "elapsed": 344,
     "status": "ok",
     "timestamp": 1667344767431,
     "user": {
      "displayName": "Ken Trinh",
      "userId": "00929063106744050420"
     },
     "user_tz": 240
    },
    "id": "d52377cd"
   },
   "outputs": [],
   "source": [
    "# tokenization - take the input caption and tokenize it\n",
    "# declare a max sequence length \n",
    "from concurrent.futures import process\n",
    "\n",
    "\n",
    "MAX_SEQ_LENGTH = 20 # 18 + start, end\n",
    "EMBED_DIM = 100 \n",
    "\n",
    "def convert_text_to_data(texts, \n",
    "                         vocab_id_dict, \n",
    "                         max_length=20, \n",
    "                         type=None,\n",
    "                         train_test_vector=None):\n",
    "    \"\"\"\n",
    "        Function to convert text based data into tokenized data with proper padding\n",
    "    \"\"\"\n",
    "\n",
    "    processed_data = []\n",
    "    for text_num, text in enumerate(texts):\n",
    "        sentence_ids = []\n",
    "\n",
    "        # split the sentence into token\n",
    "        # use the vocab to turn the word token into number\n",
    "        for token in text.split():\n",
    "            if token in vocab_id_dict.keys():\n",
    "                sentence_ids.append(vocab_id_dict[token])\n",
    "            else:\n",
    "                sentence_ids.append(vocab_id_dict[\"<unk>\"])\n",
    "\n",
    "        vocab_size = len(vocab_id_dict.keys())\n",
    "\n",
    "        # for decoder cases:\n",
    "        # input sentence: <start>, [tokenize words from vocab], <end>, padded with <unk>\n",
    "        # ouput sentence has: [tokenize words from vocab], <end>, padded with <unk>\n",
    "        if type == 'input_target':\n",
    "            ids = ([vocab_size - 3] + sentence_ids + [vocab_size - 2] + [vocab_size - 1] * max_length)[:max_length]\n",
    "        elif type == 'output_target':\n",
    "            ids = (sentence_ids + [vocab_size - 2] + [vocab_size - 1] * max_length)[:max_length]\n",
    "        processed_data.append(ids)\n",
    "\n",
    "    return np.array(processed_data)\n",
    "\n",
    "train_target_input_data = convert_text_to_data(input_captions,\n",
    "                                                vocab_id_dict,\n",
    "                                                type='input_target',\n",
    "                                                max_length=MAX_SEQ_LENGTH)\n",
    "                                                \n",
    "train_target_output_data = convert_text_to_data(input_captions,\n",
    "                                                vocab_id_dict,\n",
    "                                                type='output_target',\n",
    "                                                max_length=MAX_SEQ_LENGTH)"
   ]
  },
  {
   "cell_type": "code",
   "execution_count": 11,
   "id": "f8de06ae",
   "metadata": {
    "colab": {
     "base_uri": "https://localhost:8080/"
    },
    "executionInfo": {
     "elapsed": 9,
     "status": "ok",
     "timestamp": 1667344767431,
     "user": {
      "displayName": "Ken Trinh",
      "userId": "00929063106744050420"
     },
     "user_tz": 240
    },
    "id": "f8de06ae",
    "outputId": "804a1c33-b93b-4990-8877-c980ec1b4b2c"
   },
   "outputs": [
    {
     "data": {
      "text/plain": [
       "5945"
      ]
     },
     "execution_count": 11,
     "metadata": {},
     "output_type": "execute_result"
    }
   ],
   "source": [
    "len(vocab_id_dict)"
   ]
  },
  {
   "cell_type": "code",
   "execution_count": 12,
   "id": "dbc14c86",
   "metadata": {
    "colab": {
     "base_uri": "https://localhost:8080/"
    },
    "executionInfo": {
     "elapsed": 7,
     "status": "ok",
     "timestamp": 1667344767431,
     "user": {
      "displayName": "Ken Trinh",
      "userId": "00929063106744050420"
     },
     "user_tz": 240
    },
    "id": "dbc14c86",
    "outputId": "7151dab5-f370-422b-bdd6-e3790b6d9c36"
   },
   "outputs": [
    {
     "data": {
      "text/plain": [
       "(20169, 20)"
      ]
     },
     "execution_count": 12,
     "metadata": {},
     "output_type": "execute_result"
    }
   ],
   "source": [
    "train_target_input_data.shape"
   ]
  },
  {
   "cell_type": "code",
   "execution_count": 13,
   "id": "95a0f645",
   "metadata": {
    "colab": {
     "base_uri": "https://localhost:8080/"
    },
    "executionInfo": {
     "elapsed": 6,
     "status": "ok",
     "timestamp": 1667344767432,
     "user": {
      "displayName": "Ken Trinh",
      "userId": "00929063106744050420"
     },
     "user_tz": 240
    },
    "id": "95a0f645",
    "outputId": "1dd92d08-8376-4987-f3ec-37f85cc99fff"
   },
   "outputs": [
    {
     "data": {
      "text/plain": [
       "(20169, 20)"
      ]
     },
     "execution_count": 13,
     "metadata": {},
     "output_type": "execute_result"
    }
   ],
   "source": [
    "train_target_output_data.shape"
   ]
  },
  {
   "cell_type": "code",
   "execution_count": 14,
   "id": "c5494766",
   "metadata": {
    "executionInfo": {
     "elapsed": 4,
     "status": "ok",
     "timestamp": 1667344767432,
     "user": {
      "displayName": "Ken Trinh",
      "userId": "00929063106744050420"
     },
     "user_tz": 240
    },
    "id": "c5494766"
   },
   "outputs": [],
   "source": [
    "# # Testing CNN output\n",
    "# cnn_model_layer = keras.Model(inputs=base_model.input, outputs=base_model.layers[-2].output)\n",
    "# cnn_model_layer(train_image_data[0].reshape(1,224,224,3)).shape"
   ]
  },
  {
   "cell_type": "markdown",
   "id": "c0e5dcfc",
   "metadata": {
    "id": "c0e5dcfc"
   },
   "source": [
    "# Model Building - CNN + LSTM"
   ]
  },
  {
   "cell_type": "code",
   "execution_count": 19,
   "id": "766205c3",
   "metadata": {
    "executionInfo": {
     "elapsed": 197,
     "status": "ok",
     "timestamp": 1667345105049,
     "user": {
      "displayName": "Ken Trinh",
      "userId": "00929063106744050420"
     },
     "user_tz": 240
    },
    "id": "766205c3"
   },
   "outputs": [],
   "source": [
    "def image_captioning_model(image_shape=(224, 224, 3),\n",
    "                            caption_shape=MAX_SEQ_LENGTH,\n",
    "                            vocab_size = len(vocab_id_dict.keys()),\n",
    "                            embed_dim = EMBED_DIM,\n",
    "                            encoder_model=cnn_model,\n",
    "                            hidden_dimensions=[256, 128],\n",
    "                            dropout_rate=0.3):\n",
    "    \"\"\"\n",
    "        Image captioning model architecture:\n",
    "            1. ImageNet pretrained CNN model to encode a given image\n",
    "            2. decoder takes in the CNN image hidden state and run through LSTM\n",
    "    \"\"\"\n",
    "\n",
    "    # Encoder architecture: take in source image, feed through CNN, catch the last pooled pooled layer\n",
    "    # create the context vecto\n",
    "    source_image = keras.layers.Input(shape=image_shape, dtype='int64', name='source_image_layer')\n",
    "    cnn_model_layer = keras.Model(inputs=encoder_model.input, outputs=encoder_model.layers[-1].output)\n",
    "    source_image_encoding = cnn_model_layer(source_image)\n",
    "    source_image_encoding = keras.layers.GlobalAveragePooling2D()(source_image_encoding)\n",
    "    cnn_hidden_output = keras.layers.Dense(100, activation='relu', name='cnn_hidden_layer')(source_image_encoding)\n",
    "    # annotaion_vector = keras.layers.Concatenate(axis=-1)([source_image_encoding])\n",
    "\n",
    "\n",
    "    # Decoder architecture: take in encoder output, feed through LSTM, apply attention (as needed)\n",
    "    caption = keras.layers.Input(shape=(caption_shape,), dtype='int64', name='source_caption_layer')\n",
    "    embedding_layer  = keras.layers.Embedding(input_dim=vocab_size,\n",
    "                                                output_dim=embed_dim,\n",
    "                                                name='caption_embedding_layer')\n",
    "\n",
    "    embed_caption = embedding_layer(caption)\n",
    "    lstm_layer = keras.layers.LSTM(100, return_sequences=True, return_state=True, name=\"decoder_lstm_layer\")\n",
    "    decoder_output, decoder_state_h_output, decoder_state_c_output = lstm_layer(embed_caption, initial_state=[cnn_hidden_output, cnn_hidden_output])\n",
    "    last_hidden_output = decoder_output\n",
    "\n",
    "    # apply attention\n",
    "    # attention_context_vectors = keras.layers.Attention(name='attention_layer')([annotaion_vector, decoder_output])\n",
    "    # concat_decode_out_with_att = keras.layers.Concatenate(axis=-1, name='concat_layer_with_att')([decoder_output, attention_context_vectors])\n",
    "    # last_hidden_output = concat_decode_out_with_att\n",
    "\n",
    "    # add a fully connected feed-forward net\n",
    "    # some final dropout layer\n",
    "    # add final classification layer\n",
    "    # for hidden_layer_size in hidden_dimensions:\n",
    "    #     last_hidden_output = keras.layers.Dense(hidden_layer_size, activation='relu')(last_hidden_output)\n",
    "\n",
    "    # last_hidden_output = keras.layers.Dropout(rate=dropout_rate)(last_hidden_output)\n",
    "    # last_hidden_output = tf.keras.layers.GlobalAveragePooling1D()(last_hidden_output)\n",
    "\n",
    "    caption_output = keras.layers.Dense(vocab_size, activation='softmax')(last_hidden_output)\n",
    "\n",
    "    # instantiate and compile the model\n",
    "    model = keras.Model(inputs=[source_image, caption], outputs=[caption_output])\n",
    "    model.compile(optimizer='Adam', \n",
    "                       loss='sparse_categorical_crossentropy', \n",
    "                       metrics=['accuracy'])\n",
    "    \n",
    "    return model\n",
    "\n",
    "    "
   ]
  },
  {
   "cell_type": "code",
   "execution_count": 20,
   "id": "19aa0c72",
   "metadata": {
    "colab": {
     "base_uri": "https://localhost:8080/"
    },
    "executionInfo": {
     "elapsed": 549,
     "status": "ok",
     "timestamp": 1667345105770,
     "user": {
      "displayName": "Ken Trinh",
      "userId": "00929063106744050420"
     },
     "user_tz": 240
    },
    "id": "19aa0c72",
    "outputId": "e21f9c63-8181-48d1-dd89-25a90870073a"
   },
   "outputs": [
    {
     "name": "stdout",
     "output_type": "stream",
     "text": [
      "Model: \"model_2\"\n",
      "__________________________________________________________________________________________________\n",
      " Layer (type)                   Output Shape         Param #     Connected to                     \n",
      "==================================================================================================\n",
      " source_image_layer (InputLayer  [(None, 224, 224, 3  0          []                               \n",
      " )                              )]                                                                \n",
      "                                                                                                  \n",
      " model_1 (Functional)           (None, 7, 7, 512)    14714688    ['source_image_layer[0][0]']     \n",
      "                                                                                                  \n",
      " source_caption_layer (InputLay  [(None, 20)]        0           []                               \n",
      " er)                                                                                              \n",
      "                                                                                                  \n",
      " global_average_pooling2d_1 (Gl  (None, 512)         0           ['model_1[0][0]']                \n",
      " obalAveragePooling2D)                                                                            \n",
      "                                                                                                  \n",
      " caption_embedding_layer (Embed  (None, 20, 100)     594500      ['source_caption_layer[0][0]']   \n",
      " ding)                                                                                            \n",
      "                                                                                                  \n",
      " cnn_hidden_layer (Dense)       (None, 100)          51300       ['global_average_pooling2d_1[0][0\n",
      "                                                                 ]']                              \n",
      "                                                                                                  \n",
      " decoder_lstm_layer (LSTM)      [(None, 20, 100),    80400       ['caption_embedding_layer[0][0]',\n",
      "                                 (None, 100),                     'cnn_hidden_layer[0][0]',       \n",
      "                                 (None, 100)]                     'cnn_hidden_layer[0][0]']       \n",
      "                                                                                                  \n",
      " dense (Dense)                  (None, 20, 5945)     600445      ['decoder_lstm_layer[0][0]']     \n",
      "                                                                                                  \n",
      "==================================================================================================\n",
      "Total params: 16,041,333\n",
      "Trainable params: 1,326,645\n",
      "Non-trainable params: 14,714,688\n",
      "__________________________________________________________________________________________________\n"
     ]
    }
   ],
   "source": [
    "img_cap_model = image_captioning_model()\n",
    "img_cap_model.summary()"
   ]
  },
  {
   "cell_type": "code",
   "execution_count": 17,
   "id": "eac768d7",
   "metadata": {
    "colab": {
     "base_uri": "https://localhost:8080/",
     "height": 605
    },
    "executionInfo": {
     "elapsed": 461,
     "status": "ok",
     "timestamp": 1667345106228,
     "user": {
      "displayName": "Ken Trinh",
      "userId": "00929063106744050420"
     },
     "user_tz": 240
    },
    "id": "eac768d7",
    "outputId": "1d8fbe96-dc61-46db-d3e5-8e5fd2bb95e6"
   },
   "outputs": [
    {
     "data": {
      "image/png": "[encoded data removed]",
      "text/plain": [
       "<IPython.core.display.Image object>"
      ]
     },
     "execution_count": 17,
     "metadata": {},
     "output_type": "execute_result"
    }
   ],
   "source": [
    "keras.utils.plot_model(img_cap_model, show_shapes=True, dpi=90)"
   ]
  },
  {
   "cell_type": "code",
   "execution_count": 18,
   "id": "htOrnwH5dsG7",
   "metadata": {
    "colab": {
     "base_uri": "https://localhost:8080/"
    },
    "executionInfo": {
     "elapsed": 3,
     "status": "ok",
     "timestamp": 1667345106228,
     "user": {
      "displayName": "Ken Trinh",
      "userId": "00929063106744050420"
     },
     "user_tz": 240
    },
    "id": "htOrnwH5dsG7",
    "outputId": "7790bc3a-0be8-4ffc-ff93-97ebef32ed73"
   },
   "outputs": [
    {
     "data": {
      "text/plain": [
       "(20169, 20)"
      ]
     },
     "execution_count": 18,
     "metadata": {},
     "output_type": "execute_result"
    }
   ],
   "source": [
    "train_target_output_data.shape"
   ]
  },
  {
   "cell_type": "code",
   "execution_count": 19,
   "id": "feacbcba",
   "metadata": {
    "colab": {
     "base_uri": "https://localhost:8080/"
    },
    "executionInfo": {
     "elapsed": 545497,
     "status": "ok",
     "timestamp": 1667345651992,
     "user": {
      "displayName": "Ken Trinh",
      "userId": "00929063106744050420"
     },
     "user_tz": 240
    },
    "id": "feacbcba",
    "outputId": "f729e9a5-cdf0-4a04-d696-d2c54e25abb9"
   },
   "outputs": [
    {
     "name": "stdout",
     "output_type": "stream",
     "text": [
      "Epoch 1/20\n",
      "1135/1135 [==============================] - 142s 121ms/step - loss: 2.9155 - accuracy: 0.5500 - val_loss: 2.3034 - val_accuracy: 0.5988\n",
      "Epoch 2/20\n",
      "1135/1135 [==============================] - 136s 120ms/step - loss: 2.2516 - accuracy: 0.6105 - val_loss: 2.0761 - val_accuracy: 0.6244\n",
      "Epoch 3/20\n",
      "1135/1135 [==============================] - 137s 120ms/step - loss: 2.0567 - accuracy: 0.6287 - val_loss: 1.9652 - val_accuracy: 0.6353\n",
      "Epoch 4/20\n",
      "1135/1135 [==============================] - 137s 120ms/step - loss: 1.9282 - accuracy: 0.6399 - val_loss: 1.8927 - val_accuracy: 0.6434\n",
      "Epoch 5/20\n",
      "1135/1135 [==============================] - 137s 120ms/step - loss: 1.8323 - accuracy: 0.6488 - val_loss: 1.8522 - val_accuracy: 0.6463\n",
      "Epoch 6/20\n",
      "1135/1135 [==============================] - 137s 120ms/step - loss: 1.7542 - accuracy: 0.6558 - val_loss: 1.8228 - val_accuracy: 0.6506\n",
      "Epoch 7/20\n",
      "1135/1135 [==============================] - 137s 120ms/step - loss: 1.6897 - accuracy: 0.6618 - val_loss: 1.8024 - val_accuracy: 0.6559\n",
      "Epoch 8/20\n",
      "1135/1135 [==============================] - 137s 120ms/step - loss: 1.6334 - accuracy: 0.6674 - val_loss: 1.7921 - val_accuracy: 0.6573\n",
      "Epoch 9/20\n",
      "1135/1135 [==============================] - 137s 120ms/step - loss: 1.5845 - accuracy: 0.6723 - val_loss: 1.7898 - val_accuracy: 0.6592\n",
      "Epoch 10/20\n",
      "1135/1135 [==============================] - 137s 121ms/step - loss: 1.5403 - accuracy: 0.6769 - val_loss: 1.7893 - val_accuracy: 0.6592\n",
      "Epoch 11/20\n",
      "1135/1135 [==============================] - 137s 120ms/step - loss: 1.5009 - accuracy: 0.6807 - val_loss: 1.7921 - val_accuracy: 0.6594\n",
      "Epoch 12/20\n",
      "1135/1135 [==============================] - 137s 120ms/step - loss: 1.4653 - accuracy: 0.6846 - val_loss: 1.7979 - val_accuracy: 0.6617\n",
      "Epoch 13/20\n",
      "1135/1135 [==============================] - 136s 120ms/step - loss: 1.4320 - accuracy: 0.6887 - val_loss: 1.7998 - val_accuracy: 0.6606\n",
      "Epoch 14/20\n",
      "1135/1135 [==============================] - 137s 120ms/step - loss: 1.4014 - accuracy: 0.6926 - val_loss: 1.8042 - val_accuracy: 0.6607\n",
      "Epoch 15/20\n",
      "1135/1135 [==============================] - 137s 120ms/step - loss: 1.3753 - accuracy: 0.6965 - val_loss: 1.8142 - val_accuracy: 0.6618\n",
      "Epoch 16/20\n",
      "1135/1135 [==============================] - 136s 120ms/step - loss: 1.3481 - accuracy: 0.7005 - val_loss: 1.8228 - val_accuracy: 0.6614\n",
      "Epoch 17/20\n",
      "1135/1135 [==============================] - 136s 120ms/step - loss: 1.3237 - accuracy: 0.7036 - val_loss: 1.8319 - val_accuracy: 0.6613\n",
      "Epoch 18/20\n",
      "1135/1135 [==============================] - 136s 120ms/step - loss: 1.3014 - accuracy: 0.7078 - val_loss: 1.8397 - val_accuracy: 0.6616\n",
      "Epoch 19/20\n",
      "1135/1135 [==============================] - 136s 120ms/step - loss: 1.2788 - accuracy: 0.7109 - val_loss: 1.8512 - val_accuracy: 0.6613\n",
      "Epoch 20/20\n",
      "1135/1135 [==============================] - 137s 120ms/step - loss: 1.2578 - accuracy: 0.7143 - val_loss: 1.8586 - val_accuracy: 0.6593\n"
     ]
    },
    {
     "data": {
      "text/plain": [
       "<keras.callbacks.History at 0x20564f8b280>"
      ]
     },
     "execution_count": 19,
     "metadata": {},
     "output_type": "execute_result"
    }
   ],
   "source": [
    "img_cap_model.fit(x=[train_image_data, train_target_input_data],\n",
    "                    y=train_target_output_data,\n",
    "                    validation_split=0.1,\n",
    "                    batch_size=16,\n",
    "                    epochs=20)"
   ]
  },
  {
   "cell_type": "code",
   "execution_count": 20,
   "id": "0d7df47a",
   "metadata": {
    "executionInfo": {
     "elapsed": 181,
     "status": "ok",
     "timestamp": 1667345652311,
     "user": {
      "displayName": "Ken Trinh",
      "userId": "00929063106744050420"
     },
     "user_tz": 240
    },
    "id": "0d7df47a"
   },
   "outputs": [],
   "source": [
    "img_cap_model.save('../data/image-captioning.h5')"
   ]
  },
  {
   "cell_type": "code",
   "execution_count": 15,
   "id": "a61be940",
   "metadata": {},
   "outputs": [
    {
     "data": {
      "text/plain": [
       "[<keras.engine.input_layer.InputLayer at 0x2839f3ce1f0>,\n",
       " <keras.engine.functional.Functional at 0x2839f3cef10>,\n",
       " <keras.engine.input_layer.InputLayer at 0x2839f3ceaf0>,\n",
       " <keras.layers.pooling.global_average_pooling2d.GlobalAveragePooling2D at 0x283afea0190>,\n",
       " <keras.layers.core.embedding.Embedding at 0x283afe99d00>,\n",
       " <keras.layers.core.dense.Dense at 0x2839f3ce2b0>,\n",
       " <keras.layers.rnn.lstm.LSTM at 0x283afea8cd0>,\n",
       " <keras.layers.core.dense.Dense at 0x283a7074670>]"
      ]
     },
     "execution_count": 15,
     "metadata": {},
     "output_type": "execute_result"
    }
   ],
   "source": [
    "img_cap_model = keras.models.load_model('../data/image-captioning.h5')\n",
    "img_cap_model.layers"
   ]
  },
  {
   "cell_type": "markdown",
   "id": "vRJ2DE1qn0Ig",
   "metadata": {
    "id": "vRJ2DE1qn0Ig"
   },
   "source": [
    "# Setting Model for Inference\n",
    "The trained model need to be set up in a way that we don't actually feed in the sentence seeds"
   ]
  },
  {
   "cell_type": "code",
   "execution_count": 16,
   "id": "15c13d03",
   "metadata": {},
   "outputs": [
    {
     "data": {
      "text/plain": [
       "array([[[0., 0., 0., ..., 1., 0., 0.]]])"
      ]
     },
     "execution_count": 16,
     "metadata": {},
     "output_type": "execute_result"
    }
   ],
   "source": [
    "target_seq = np.zeros((1, 1, len(vocab_id_dict.keys())))\n",
    "target_seq[0, 0, vocab_id_dict['<start>']] = 1.\n",
    "target_seq"
   ]
  },
  {
   "cell_type": "code",
   "execution_count": 34,
   "id": "9c6231b2",
   "metadata": {},
   "outputs": [
    {
     "ename": "AttributeError",
     "evalue": "module 'tensorflow' has no attribute 'tensor'",
     "output_type": "error",
     "traceback": [
      "\u001b[1;31m---------------------------------------------------------------------------\u001b[0m",
      "\u001b[1;31mAttributeError\u001b[0m                            Traceback (most recent call last)",
      "\u001b[1;32me:\\UNIXSpace\\Git_Desktop\\Ai-Models\\image-captioning\\notebook\\image-captioning-w-pre-trained-cnn.ipynb Cell 32\u001b[0m in \u001b[0;36m<cell line: 1>\u001b[1;34m()\u001b[0m\n\u001b[1;32m----> <a href='vscode-notebook-cell:/e%3A/UNIXSpace/Git_Desktop/Ai-Models/image-captioning/notebook/image-captioning-w-pre-trained-cnn.ipynb#X43sZmlsZQ%3D%3D?line=0'>1</a>\u001b[0m img_cap_model\u001b[39m.\u001b[39mget_layer(\u001b[39m'\u001b[39m\u001b[39mdecoder_lstm_layer\u001b[39m\u001b[39m'\u001b[39m)(tf\u001b[39m.\u001b[39;49mtensor(shape\u001b[39m=\u001b[39m(\u001b[39m1\u001b[39m,\u001b[39m20\u001b[39m,\u001b[39m100\u001b[39m)) [tf\u001b[39m.\u001b[39mtensor(shape\u001b[39m=\u001b[39m(\u001b[39m1\u001b[39m,\u001b[39m100\u001b[39m)), tf\u001b[39m.\u001b[39mtensor(shape\u001b[39m=\u001b[39m(\u001b[39m1\u001b[39m,\u001b[39m100\u001b[39m))])\n",
      "\u001b[1;31mAttributeError\u001b[0m: module 'tensorflow' has no attribute 'tensor'"
     ]
    }
   ],
   "source": [
    "img_cap_model.get_layer('decoder_lstm_layer')(keras.tensor(shape=(1,20,100)) [keras.tensor(shape=(1,100)), keras.tensor(shape=(1,100))])"
   ]
  },
  {
   "cell_type": "code",
   "execution_count": null,
   "id": "3bd7ffff",
   "metadata": {},
   "outputs": [],
   "source": []
  },
  {
   "cell_type": "code",
   "execution_count": 53,
   "id": "xXiRjygInzr0",
   "metadata": {
    "executionInfo": {
     "elapsed": 4,
     "status": "ok",
     "timestamp": 1667348886885,
     "user": {
      "displayName": "Ken Trinh",
      "userId": "00929063106744050420"
     },
     "user_tz": 240
    },
    "id": "xXiRjygInzr0"
   },
   "outputs": [],
   "source": [
    "def inference_model(img_cap_model, vocab_size):\n",
    "  \n",
    "    # encoder layer: use the original cnn to encode the image, i guess\n",
    "    source_image = keras.layers.Input(shape=(224,224,3), dtype='int64', name='source_image_layer')\n",
    "    cnn_layer = img_cap_model.get_layer('model')(source_image)\n",
    "    cnn_pooling = img_cap_model.get_layer('global_average_pooling2d')(cnn_layer)\n",
    "    image_encoder = img_cap_model.get_layer(\"cnn_hidden_layer\")(cnn_pooling)\n",
    "    encoder_model = keras.Model(inputs = source_image,  outputs = tf.convert_to_tensor(image_encoder, dtype='float32'))\n",
    "\n",
    "    # decoder layer\n",
    "    decoder_inputs = keras.layers.Input(shape=(20,), dtype='float32', name='decoder_initial_state')\n",
    "    embedding_layer = img_cap_model.get_layer('caption_embedding_layer')\n",
    "    embed_decoder = embedding_layer(decoder_inputs)\n",
    "    decoder_lstm = img_cap_model.get_layer('decoder_lstm_layer')\n",
    "\n",
    "    decoder_state_input_h = keras.layers.Input(shape=(100,))\n",
    "    decoder_state_input_c = keras.layers.Input(shape=(100,))\n",
    "    decoder_states_inputs = [decoder_state_input_h, decoder_state_input_c]    \n",
    "    \n",
    "    decoder_outputs, state_h, state_c = decoder_lstm(embed_decoder, decoder_states_inputs)\n",
    "    decoder_states = [state_h, state_c]\n",
    "    decoder_outputs = img_cap_model.get_layer('dense')(decoder_outputs)\n",
    "\n",
    "\n",
    "    decoder_model = keras.Model(inputs=[decoder_inputs, decoder_state_input_h, decoder_state_input_c], \n",
    "                              outputs=[decoder_outputs, state_h, state_c], name='decoder_model')\n",
    "    \n",
    "    return encoder_model, decoder_model\n",
    "\n"
   ]
  },
  {
   "cell_type": "code",
   "execution_count": 54,
   "id": "83cdde21",
   "metadata": {},
   "outputs": [],
   "source": [
    "encoder_model, decoder_model = inference_model(img_cap_model, len(id_vocab_dict.keys()))\n"
   ]
  },
  {
   "cell_type": "code",
   "execution_count": 55,
   "id": "94b122c5",
   "metadata": {},
   "outputs": [
    {
     "data": {
      "image/png": "[encoded data removed]",
      "text/plain": [
       "<IPython.core.display.Image object>"
      ]
     },
     "execution_count": 55,
     "metadata": {},
     "output_type": "execute_result"
    }
   ],
   "source": [
    "keras.utils.plot_model(encoder_model, show_shapes=True, dpi=90)"
   ]
  },
  {
   "cell_type": "code",
   "execution_count": 56,
   "id": "fcaf445b",
   "metadata": {},
   "outputs": [
    {
     "data": {
      "image/png": "[encoded data removed]",
      "text/plain": [
       "<IPython.core.display.Image object>"
      ]
     },
     "execution_count": 56,
     "metadata": {},
     "output_type": "execute_result"
    }
   ],
   "source": [
    "keras.utils.plot_model(decoder_model, show_shapes=True, dpi=90)"
   ]
  },
  {
   "cell_type": "code",
   "execution_count": 50,
   "id": "5bdcbe5d",
   "metadata": {},
   "outputs": [
    {
     "name": "stdout",
     "output_type": "stream",
     "text": [
      "1/1 [==============================] - 0s 139ms/step\n"
     ]
    },
    {
     "data": {
      "text/plain": [
       "<tf.Tensor: shape=(1, 100), dtype=float32, numpy=\n",
       "array([[  0.       ,   0.       ,  72.21579  ,   0.       ,  63.62219  ,\n",
       "          0.       ,   0.       ,  54.654873 ,  16.234188 ,  75.00691  ,\n",
       "         31.07784  ,  47.337658 ,  81.81104  ,   8.316148 ,   0.       ,\n",
       "          4.6263185,  40.014008 ,   0.       ,   0.       ,  71.606346 ,\n",
       "         11.048    ,  32.335316 ,   0.       , 186.00708  ,   0.       ,\n",
       "          0.       ,  56.507694 ,   0.       ,  41.671776 ,   0.       ,\n",
       "         22.089418 ,  25.42787  ,   0.       ,   0.       , 145.3333   ,\n",
       "          0.       ,   0.       ,   0.       , 228.6607   ,   0.       ,\n",
       "          0.       ,   0.       ,   0.       , 266.0263   ,   0.       ,\n",
       "          0.       , 243.2327   , 130.63272  ,   0.       ,  37.99504  ,\n",
       "          0.       , 137.44926  ,  74.94639  ,   0.       , 106.680016 ,\n",
       "         74.8089   ,  18.209898 ,   0.       ,   0.       ,   0.       ,\n",
       "        277.93967  ,   0.       ,  54.22708  ,   1.4224379, 143.5179   ,\n",
       "          0.       ,  81.209564 ,   0.       ,   0.       , 100.22019  ,\n",
       "          0.       ,   0.       ,   0.       ,   0.       ,   0.       ,\n",
       "          0.       ,   0.       ,  12.359597 , 169.37662  ,   0.       ,\n",
       "         76.430145 ,   0.       ,  16.198473 ,  78.262436 ,  30.556929 ,\n",
       "          7.3734927,   0.       ,  97.61844  ,  87.9451   ,   0.       ,\n",
       "        249.0251   ,  35.03895  ,   0.       ,   0.       , 113.97196  ,\n",
       "         54.39531  ,   0.       ,   0.       ,   0.       ,   0.       ]],\n",
       "      dtype=float32)>"
      ]
     },
     "execution_count": 50,
     "metadata": {},
     "output_type": "execute_result"
    }
   ],
   "source": [
    "# Experimenting with image encoding trained model\n",
    "# states_value = encoder_model.predict(train_image_data[1].reshape(1,224,224,3))\n",
    "source_image = keras.layers.Input(shape=(224,224,3), dtype='int64', name='source_image_layer')\n",
    "cnn_layer = img_cap_model.get_layer('model')(source_image)\n",
    "cnn_pooling = img_cap_model.get_layer('global_average_pooling2d')(cnn_layer)\n",
    "image_encoder = img_cap_model.get_layer(\"cnn_hidden_layer\")(cnn_pooling)\n",
    "encoder_model = keras.Model(inputs=source_image,  outputs = tf.convert_to_tensor(image_encoder, dtype='float32'))\n",
    "\n",
    "# source_image(train_image_data[1].reshape(1,224,224,3))\n",
    "test = encoder_model.predict(train_image_data[1].reshape(1,224,224,3))\n",
    "test = tf.convert_to_tensor(test, dtype='float32')\n",
    "test"
   ]
  },
  {
   "cell_type": "code",
   "execution_count": null,
   "id": "efa9719b",
   "metadata": {},
   "outputs": [],
   "source": []
  },
  {
   "cell_type": "code",
   "execution_count": 51,
   "id": "c96d4ec8",
   "metadata": {},
   "outputs": [],
   "source": [
    "# Generate empty target sequence of length 1.\n",
    "target_seq = np.zeros((1, 20))\n",
    "\n",
    "# Populate the first character of target sequence with the start character.\n",
    "target_seq[0, 0] = int(vocab_id_dict['<start>'])\n",
    "target_seq = tf.convert_to_tensor(target_seq, dtype='float32')\n",
    "\n",
    "embedding_layer = img_cap_model.get_layer('caption_embedding_layer')\n",
    "embed_decoder = embedding_layer(target_seq)\n",
    "decoder_lstm = img_cap_model.get_layer('decoder_lstm_layer')\n",
    "decoder_value, state_h, state_c = decoder_lstm(embed_decoder, [test, test])\n",
    "\n",
    "decoder_value"
   ]
  },
  {
   "cell_type": "code",
   "execution_count": null,
   "id": "afe702d5",
   "metadata": {},
   "outputs": [],
   "source": []
  },
  {
   "cell_type": "code",
   "execution_count": null,
   "id": "f5fcef59",
   "metadata": {},
   "outputs": [],
   "source": []
  },
  {
   "cell_type": "code",
   "execution_count": null,
   "id": "49ffbc25",
   "metadata": {},
   "outputs": [],
   "source": []
  },
  {
   "cell_type": "code",
   "execution_count": null,
   "id": "37c044e7",
   "metadata": {},
   "outputs": [],
   "source": []
  },
  {
   "cell_type": "code",
   "execution_count": null,
   "id": "1079590c",
   "metadata": {},
   "outputs": [],
   "source": []
  },
  {
   "cell_type": "code",
   "execution_count": null,
   "id": "cabe497f",
   "metadata": {},
   "outputs": [],
   "source": []
  },
  {
   "cell_type": "code",
   "execution_count": 121,
   "id": "xhRSQ_NSkBEM",
   "metadata": {
    "colab": {
     "base_uri": "https://localhost:8080/",
     "height": 287
    },
    "executionInfo": {
     "elapsed": 4,
     "status": "error",
     "timestamp": 1667348894945,
     "user": {
      "displayName": "Ken Trinh",
      "userId": "00929063106744050420"
     },
     "user_tz": 240
    },
    "id": "xhRSQ_NSkBEM",
    "outputId": "7771ff2e-b489-4f42-9f66-05a4dc2709b3"
   },
   "outputs": [],
   "source": [
    "def caption_image(image):\n",
    "    # instantiate the model\n",
    "    encoder_model, decoder_model = inference_model(img_cap_model, len(id_vocab_dict.keys()))\n",
    "\n",
    "    # Encode the input as state vectors.\n",
    "    states_value = encoder_model.predict(image)\n",
    "    state = [states_value, states_value]\n",
    "\n",
    "    # Generate empty target sequence of length 1.\n",
    "    target_seq = np.zeros((1, 20))\n",
    "\n",
    "    # Populate the first character of target sequence with the start character.\n",
    "    target_seq[0, 0] = vocab_id_dict['<start>']\n",
    "\n",
    "    # Sampling loop for a batch of sequences\n",
    "    # (to simplify, here we assume a batch of size 1).\n",
    "    stop_condition = False\n",
    "    decoded_sentence = []\n",
    "    i = 1\n",
    "    while not stop_condition:\n",
    "        output_tokens, h, c = decoder_model.predict([target_seq]+state)\n",
    "\n",
    "        # Sample a token\n",
    "        sampled_token_index = np.argmax(output_tokens, axis=-1)\n",
    "        sampled_char = [id_vocab_dict[c] for c in sampled_token_index[0]]\n",
    "\n",
    "        decoded_sentence.append(sampled_char)\n",
    "    \n",
    "        # Exit condition: either hit max length\n",
    "        # or find stop character.\n",
    "        if ( len(decoded_sentence) > 20 or  i == 20):\n",
    "            stop_condition = True\n",
    "            break\n",
    "\n",
    "        # Update the target sequence (of length 1).\n",
    "        # target_seq = np.zeros((1, len(vocab_id_dict.keys())))\n",
    "        target_seq = sampled_token_index\n",
    "\n",
    "        # Update states\n",
    "        state = [h, c]\n",
    "        \n",
    "        # increase by 1\n",
    "        i+=1\n",
    "\n",
    "    return \" \".join(decoded_sentence[0])"
   ]
  },
  {
   "cell_type": "code",
   "execution_count": null,
   "id": "tzJnEL2jmuJk",
   "metadata": {
    "colab": {
     "base_uri": "https://localhost:8080/",
     "height": 345
    },
    "executionInfo": {
     "elapsed": 152,
     "status": "error",
     "timestamp": 1667346747219,
     "user": {
      "displayName": "Ken Trinh",
      "userId": "00929063106744050420"
     },
     "user_tz": 240
    },
    "id": "tzJnEL2jmuJk",
    "outputId": "53b11d4c-3dce-430f-a1bf-fa90b9a10593"
   },
   "outputs": [],
   "source": []
  },
  {
   "cell_type": "code",
   "execution_count": 122,
   "id": "x33SY2ryjOY_",
   "metadata": {
    "colab": {
     "base_uri": "https://localhost:8080/",
     "height": 286
    },
    "executionInfo": {
     "elapsed": 618,
     "status": "ok",
     "timestamp": 1667346544267,
     "user": {
      "displayName": "Ken Trinh",
      "userId": "00929063106744050420"
     },
     "user_tz": 240
    },
    "id": "x33SY2ryjOY_",
    "outputId": "8a741b86-fbaa-4c5c-f5a8-1428d52e8473"
   },
   "outputs": [
    {
     "data": {
      "text/plain": [
       "<matplotlib.image.AxesImage at 0x285e9f087f0>"
      ]
     },
     "execution_count": 122,
     "metadata": {},
     "output_type": "execute_result"
    },
    {
     "data": {
      "image/png": "[encoded data removed]",
      "text/plain": [
       "<Figure size 432x288 with 1 Axes>"
      ]
     },
     "metadata": {
      "needs_background": "light"
     },
     "output_type": "display_data"
    }
   ],
   "source": [
    "plt.imshow(train_image_data[9])"
   ]
  },
  {
   "cell_type": "code",
   "execution_count": 123,
   "id": "r1HP57KglK5k",
   "metadata": {
    "id": "r1HP57KglK5k"
   },
   "outputs": [
    {
     "name": "stdout",
     "output_type": "stream",
     "text": [
      "1/1 [==============================] - 0s 147ms/step\n",
      "1/1 [==============================] - 0s 375ms/step\n",
      "1/1 [==============================] - 0s 381ms/step\n",
      "1/1 [==============================] - 0s 22ms/step\n",
      "1/1 [==============================] - 0s 22ms/step\n",
      "1/1 [==============================] - 0s 23ms/step\n",
      "1/1 [==============================] - 0s 22ms/step\n",
      "1/1 [==============================] - 0s 22ms/step\n",
      "1/1 [==============================] - 0s 23ms/step\n",
      "1/1 [==============================] - 0s 23ms/step\n",
      "1/1 [==============================] - 0s 24ms/step\n",
      "1/1 [==============================] - 0s 25ms/step\n",
      "1/1 [==============================] - 0s 27ms/step\n",
      "1/1 [==============================] - 0s 26ms/step\n",
      "1/1 [==============================] - 0s 26ms/step\n",
      "1/1 [==============================] - 0s 27ms/step\n",
      "1/1 [==============================] - 0s 24ms/step\n",
      "1/1 [==============================] - 0s 25ms/step\n",
      "1/1 [==============================] - 0s 23ms/step\n",
      "1/1 [==============================] - 0s 23ms/step\n",
      "1/1 [==============================] - 0s 24ms/step\n"
     ]
    },
    {
     "data": {
      "text/plain": [
       "'<unk> and and on in in in in in in on <end> <end> <end> <end> <end> <end> <unk> <unk> <unk>'"
      ]
     },
     "execution_count": 123,
     "metadata": {},
     "output_type": "execute_result"
    }
   ],
   "source": [
    "caption = caption_image(train_image_data[9].reshape(1,224,224,3))\n",
    "caption"
   ]
  },
  {
   "cell_type": "code",
   "execution_count": null,
   "id": "fed61426",
   "metadata": {},
   "outputs": [],
   "source": []
  },
  {
   "cell_type": "code",
   "execution_count": null,
   "id": "f94023b9",
   "metadata": {},
   "outputs": [],
   "source": []
  }
 ],
 "metadata": {
  "accelerator": "GPU",
  "colab": {
   "collapsed_sections": [],
   "machine_shape": "hm",
   "provenance": []
  },
  "gpuClass": "premium",
  "kernelspec": {
   "display_name": "Python 3 (ipykernel)",
   "language": "python",
   "name": "python3"
  },
  "language_info": {
   "codemirror_mode": {
    "name": "ipython",
    "version": 3
   },
   "file_extension": ".py",
   "mimetype": "text/x-python",
   "name": "python",
   "nbconvert_exporter": "python",
   "pygments_lexer": "ipython3",
   "version": "3.9.12"
  },
  "vscode": {
   "interpreter": {
    "hash": "9845b488047c880b3243e38cff204b64842e109bc52f8ea3e8abc45a8d12589d"
   }
  },
  "widgets": {
   "application/vnd.jupyter.widget-state+json": {
    "21aba10715f44ba0836179c2c5430178": {
     "model_module": "@jupyter-widgets/controls",
     "model_module_version": "1.5.0",
     "model_name": "HTMLModel",
     "state": {
      "_dom_classes": [],
      "_model_module": "@jupyter-widgets/controls",
      "_model_module_version": "1.5.0",
      "_model_name": "HTMLModel",
      "_view_count": null,
      "_view_module": "@jupyter-widgets/controls",
      "_view_module_version": "1.5.0",
      "_view_name": "HTMLView",
      "description": "",
      "description_tooltip": null,
      "layout": "IPY_MODEL_5ae0db5c367b4b52aa3754b945b5c1c1",
      "placeholder": "​",
      "style": "IPY_MODEL_f74b32474aac49089b60502f399ec473",
      "value": "100%"
     }
    },
    "2865adbc4bf84f47872e1f56419b4eae": {
     "model_module": "@jupyter-widgets/base",
     "model_module_version": "1.2.0",
     "model_name": "LayoutModel",
     "state": {
      "_model_module": "@jupyter-widgets/base",
      "_model_module_version": "1.2.0",
      "_model_name": "LayoutModel",
      "_view_count": null,
      "_view_module": "@jupyter-widgets/base",
      "_view_module_version": "1.2.0",
      "_view_name": "LayoutView",
      "align_content": null,
      "align_items": null,
      "align_self": null,
      "border": null,
      "bottom": null,
      "display": null,
      "flex": null,
      "flex_flow": null,
      "grid_area": null,
      "grid_auto_columns": null,
      "grid_auto_flow": null,
      "grid_auto_rows": null,
      "grid_column": null,
      "grid_gap": null,
      "grid_row": null,
      "grid_template_areas": null,
      "grid_template_columns": null,
      "grid_template_rows": null,
      "height": null,
      "justify_content": null,
      "justify_items": null,
      "left": null,
      "margin": null,
      "max_height": null,
      "max_width": null,
      "min_height": null,
      "min_width": null,
      "object_fit": null,
      "object_position": null,
      "order": null,
      "overflow": null,
      "overflow_x": null,
      "overflow_y": null,
      "padding": null,
      "right": null,
      "top": null,
      "visibility": null,
      "width": null
     }
    },
    "2a19bba952724d36acea4b5d1d2d54a4": {
     "model_module": "@jupyter-widgets/base",
     "model_module_version": "1.2.0",
     "model_name": "LayoutModel",
     "state": {
      "_model_module": "@jupyter-widgets/base",
      "_model_module_version": "1.2.0",
      "_model_name": "LayoutModel",
      "_view_count": null,
      "_view_module": "@jupyter-widgets/base",
      "_view_module_version": "1.2.0",
      "_view_name": "LayoutView",
      "align_content": null,
      "align_items": null,
      "align_self": null,
      "border": null,
      "bottom": null,
      "display": null,
      "flex": null,
      "flex_flow": null,
      "grid_area": null,
      "grid_auto_columns": null,
      "grid_auto_flow": null,
      "grid_auto_rows": null,
      "grid_column": null,
      "grid_gap": null,
      "grid_row": null,
      "grid_template_areas": null,
      "grid_template_columns": null,
      "grid_template_rows": null,
      "height": null,
      "justify_content": null,
      "justify_items": null,
      "left": null,
      "margin": null,
      "max_height": null,
      "max_width": null,
      "min_height": null,
      "min_width": null,
      "object_fit": null,
      "object_position": null,
      "order": null,
      "overflow": null,
      "overflow_x": null,
      "overflow_y": null,
      "padding": null,
      "right": null,
      "top": null,
      "visibility": null,
      "width": null
     }
    },
    "350d2547894249fd80327061d8b32e01": {
     "model_module": "@jupyter-widgets/controls",
     "model_module_version": "1.5.0",
     "model_name": "HTMLModel",
     "state": {
      "_dom_classes": [],
      "_model_module": "@jupyter-widgets/controls",
      "_model_module_version": "1.5.0",
      "_model_name": "HTMLModel",
      "_view_count": null,
      "_view_module": "@jupyter-widgets/controls",
      "_view_module_version": "1.5.0",
      "_view_name": "HTMLView",
      "description": "",
      "description_tooltip": null,
      "layout": "IPY_MODEL_e037af3f7ff041a8a9de499e95dfcc2e",
      "placeholder": "​",
      "style": "IPY_MODEL_83b5f7cbf5a94720a80877d3350c0e98",
      "value": " 0/0 [00:00&lt;?, ?it/s]"
     }
    },
    "49efe6466ab84d85bcbc95e5f448d57e": {
     "model_module": "@jupyter-widgets/base",
     "model_module_version": "1.2.0",
     "model_name": "LayoutModel",
     "state": {
      "_model_module": "@jupyter-widgets/base",
      "_model_module_version": "1.2.0",
      "_model_name": "LayoutModel",
      "_view_count": null,
      "_view_module": "@jupyter-widgets/base",
      "_view_module_version": "1.2.0",
      "_view_name": "LayoutView",
      "align_content": null,
      "align_items": null,
      "align_self": null,
      "border": null,
      "bottom": null,
      "display": null,
      "flex": null,
      "flex_flow": null,
      "grid_area": null,
      "grid_auto_columns": null,
      "grid_auto_flow": null,
      "grid_auto_rows": null,
      "grid_column": null,
      "grid_gap": null,
      "grid_row": null,
      "grid_template_areas": null,
      "grid_template_columns": null,
      "grid_template_rows": null,
      "height": null,
      "justify_content": null,
      "justify_items": null,
      "left": null,
      "margin": null,
      "max_height": null,
      "max_width": null,
      "min_height": null,
      "min_width": null,
      "object_fit": null,
      "object_position": null,
      "order": null,
      "overflow": null,
      "overflow_x": null,
      "overflow_y": null,
      "padding": null,
      "right": null,
      "top": null,
      "visibility": null,
      "width": "20px"
     }
    },
    "52b7e649f2a44fb494c4cec62842fc18": {
     "model_module": "@jupyter-widgets/controls",
     "model_module_version": "1.5.0",
     "model_name": "HTMLModel",
     "state": {
      "_dom_classes": [],
      "_model_module": "@jupyter-widgets/controls",
      "_model_module_version": "1.5.0",
      "_model_name": "HTMLModel",
      "_view_count": null,
      "_view_module": "@jupyter-widgets/controls",
      "_view_module_version": "1.5.0",
      "_view_name": "HTMLView",
      "description": "",
      "description_tooltip": null,
      "layout": "IPY_MODEL_2865adbc4bf84f47872e1f56419b4eae",
      "placeholder": "​",
      "style": "IPY_MODEL_e78d25c3916a4bc2a1f835f19d123f21",
      "value": " 20169/20169 [00:02&lt;00:00, 7504.08it/s]"
     }
    },
    "5ae0db5c367b4b52aa3754b945b5c1c1": {
     "model_module": "@jupyter-widgets/base",
     "model_module_version": "1.2.0",
     "model_name": "LayoutModel",
     "state": {
      "_model_module": "@jupyter-widgets/base",
      "_model_module_version": "1.2.0",
      "_model_name": "LayoutModel",
      "_view_count": null,
      "_view_module": "@jupyter-widgets/base",
      "_view_module_version": "1.2.0",
      "_view_name": "LayoutView",
      "align_content": null,
      "align_items": null,
      "align_self": null,
      "border": null,
      "bottom": null,
      "display": null,
      "flex": null,
      "flex_flow": null,
      "grid_area": null,
      "grid_auto_columns": null,
      "grid_auto_flow": null,
      "grid_auto_rows": null,
      "grid_column": null,
      "grid_gap": null,
      "grid_row": null,
      "grid_template_areas": null,
      "grid_template_columns": null,
      "grid_template_rows": null,
      "height": null,
      "justify_content": null,
      "justify_items": null,
      "left": null,
      "margin": null,
      "max_height": null,
      "max_width": null,
      "min_height": null,
      "min_width": null,
      "object_fit": null,
      "object_position": null,
      "order": null,
      "overflow": null,
      "overflow_x": null,
      "overflow_y": null,
      "padding": null,
      "right": null,
      "top": null,
      "visibility": null,
      "width": null
     }
    },
    "6479d9ce68784fb0ab886027ae1b4055": {
     "model_module": "@jupyter-widgets/controls",
     "model_module_version": "1.5.0",
     "model_name": "HBoxModel",
     "state": {
      "_dom_classes": [],
      "_model_module": "@jupyter-widgets/controls",
      "_model_module_version": "1.5.0",
      "_model_name": "HBoxModel",
      "_view_count": null,
      "_view_module": "@jupyter-widgets/controls",
      "_view_module_version": "1.5.0",
      "_view_name": "HBoxView",
      "box_style": "",
      "children": [
       "IPY_MODEL_c1539bfde70542818b6ce097c0e06fec",
       "IPY_MODEL_828ca8efa2134f1293ca4e4552fd08eb",
       "IPY_MODEL_350d2547894249fd80327061d8b32e01"
      ],
      "layout": "IPY_MODEL_70cf6f6548aa4d2eb54bd29572cb445a"
     }
    },
    "6c79339ad72a4430ba35a1bb0c4d3643": {
     "model_module": "@jupyter-widgets/controls",
     "model_module_version": "1.5.0",
     "model_name": "ProgressStyleModel",
     "state": {
      "_model_module": "@jupyter-widgets/controls",
      "_model_module_version": "1.5.0",
      "_model_name": "ProgressStyleModel",
      "_view_count": null,
      "_view_module": "@jupyter-widgets/base",
      "_view_module_version": "1.2.0",
      "_view_name": "StyleView",
      "bar_color": null,
      "description_width": ""
     }
    },
    "70cf6f6548aa4d2eb54bd29572cb445a": {
     "model_module": "@jupyter-widgets/base",
     "model_module_version": "1.2.0",
     "model_name": "LayoutModel",
     "state": {
      "_model_module": "@jupyter-widgets/base",
      "_model_module_version": "1.2.0",
      "_model_name": "LayoutModel",
      "_view_count": null,
      "_view_module": "@jupyter-widgets/base",
      "_view_module_version": "1.2.0",
      "_view_name": "LayoutView",
      "align_content": null,
      "align_items": null,
      "align_self": null,
      "border": null,
      "bottom": null,
      "display": null,
      "flex": null,
      "flex_flow": null,
      "grid_area": null,
      "grid_auto_columns": null,
      "grid_auto_flow": null,
      "grid_auto_rows": null,
      "grid_column": null,
      "grid_gap": null,
      "grid_row": null,
      "grid_template_areas": null,
      "grid_template_columns": null,
      "grid_template_rows": null,
      "height": null,
      "justify_content": null,
      "justify_items": null,
      "left": null,
      "margin": null,
      "max_height": null,
      "max_width": null,
      "min_height": null,
      "min_width": null,
      "object_fit": null,
      "object_position": null,
      "order": null,
      "overflow": null,
      "overflow_x": null,
      "overflow_y": null,
      "padding": null,
      "right": null,
      "top": null,
      "visibility": null,
      "width": null
     }
    },
    "7e349ccf266342e5bd2b45f00610ff9c": {
     "model_module": "@jupyter-widgets/controls",
     "model_module_version": "1.5.0",
     "model_name": "DescriptionStyleModel",
     "state": {
      "_model_module": "@jupyter-widgets/controls",
      "_model_module_version": "1.5.0",
      "_model_name": "DescriptionStyleModel",
      "_view_count": null,
      "_view_module": "@jupyter-widgets/base",
      "_view_module_version": "1.2.0",
      "_view_name": "StyleView",
      "description_width": ""
     }
    },
    "828ca8efa2134f1293ca4e4552fd08eb": {
     "model_module": "@jupyter-widgets/controls",
     "model_module_version": "1.5.0",
     "model_name": "FloatProgressModel",
     "state": {
      "_dom_classes": [],
      "_model_module": "@jupyter-widgets/controls",
      "_model_module_version": "1.5.0",
      "_model_name": "FloatProgressModel",
      "_view_count": null,
      "_view_module": "@jupyter-widgets/controls",
      "_view_module_version": "1.5.0",
      "_view_name": "ProgressView",
      "bar_style": "success",
      "description": "",
      "description_tooltip": null,
      "layout": "IPY_MODEL_49efe6466ab84d85bcbc95e5f448d57e",
      "max": 1,
      "min": 0,
      "orientation": "horizontal",
      "style": "IPY_MODEL_6c79339ad72a4430ba35a1bb0c4d3643",
      "value": 0
     }
    },
    "83b5f7cbf5a94720a80877d3350c0e98": {
     "model_module": "@jupyter-widgets/controls",
     "model_module_version": "1.5.0",
     "model_name": "DescriptionStyleModel",
     "state": {
      "_model_module": "@jupyter-widgets/controls",
      "_model_module_version": "1.5.0",
      "_model_name": "DescriptionStyleModel",
      "_view_count": null,
      "_view_module": "@jupyter-widgets/base",
      "_view_module_version": "1.2.0",
      "_view_name": "StyleView",
      "description_width": ""
     }
    },
    "8aa70e5cb1564ea48b509db0c174e65a": {
     "model_module": "@jupyter-widgets/controls",
     "model_module_version": "1.5.0",
     "model_name": "HBoxModel",
     "state": {
      "_dom_classes": [],
      "_model_module": "@jupyter-widgets/controls",
      "_model_module_version": "1.5.0",
      "_model_name": "HBoxModel",
      "_view_count": null,
      "_view_module": "@jupyter-widgets/controls",
      "_view_module_version": "1.5.0",
      "_view_name": "HBoxView",
      "box_style": "",
      "children": [
       "IPY_MODEL_21aba10715f44ba0836179c2c5430178",
       "IPY_MODEL_dcd2f999830845908b324aa75b5b3633",
       "IPY_MODEL_52b7e649f2a44fb494c4cec62842fc18"
      ],
      "layout": "IPY_MODEL_2a19bba952724d36acea4b5d1d2d54a4"
     }
    },
    "962f8f4567f3412f95d031fbb9c269ad": {
     "model_module": "@jupyter-widgets/controls",
     "model_module_version": "1.5.0",
     "model_name": "ProgressStyleModel",
     "state": {
      "_model_module": "@jupyter-widgets/controls",
      "_model_module_version": "1.5.0",
      "_model_name": "ProgressStyleModel",
      "_view_count": null,
      "_view_module": "@jupyter-widgets/base",
      "_view_module_version": "1.2.0",
      "_view_name": "StyleView",
      "bar_color": null,
      "description_width": ""
     }
    },
    "c1539bfde70542818b6ce097c0e06fec": {
     "model_module": "@jupyter-widgets/controls",
     "model_module_version": "1.5.0",
     "model_name": "HTMLModel",
     "state": {
      "_dom_classes": [],
      "_model_module": "@jupyter-widgets/controls",
      "_model_module_version": "1.5.0",
      "_model_name": "HTMLModel",
      "_view_count": null,
      "_view_module": "@jupyter-widgets/controls",
      "_view_module_version": "1.5.0",
      "_view_name": "HTMLView",
      "description": "",
      "description_tooltip": null,
      "layout": "IPY_MODEL_ce3373d554e942e2ad494285fd65140d",
      "placeholder": "​",
      "style": "IPY_MODEL_7e349ccf266342e5bd2b45f00610ff9c",
      "value": ""
     }
    },
    "ce3373d554e942e2ad494285fd65140d": {
     "model_module": "@jupyter-widgets/base",
     "model_module_version": "1.2.0",
     "model_name": "LayoutModel",
     "state": {
      "_model_module": "@jupyter-widgets/base",
      "_model_module_version": "1.2.0",
      "_model_name": "LayoutModel",
      "_view_count": null,
      "_view_module": "@jupyter-widgets/base",
      "_view_module_version": "1.2.0",
      "_view_name": "LayoutView",
      "align_content": null,
      "align_items": null,
      "align_self": null,
      "border": null,
      "bottom": null,
      "display": null,
      "flex": null,
      "flex_flow": null,
      "grid_area": null,
      "grid_auto_columns": null,
      "grid_auto_flow": null,
      "grid_auto_rows": null,
      "grid_column": null,
      "grid_gap": null,
      "grid_row": null,
      "grid_template_areas": null,
      "grid_template_columns": null,
      "grid_template_rows": null,
      "height": null,
      "justify_content": null,
      "justify_items": null,
      "left": null,
      "margin": null,
      "max_height": null,
      "max_width": null,
      "min_height": null,
      "min_width": null,
      "object_fit": null,
      "object_position": null,
      "order": null,
      "overflow": null,
      "overflow_x": null,
      "overflow_y": null,
      "padding": null,
      "right": null,
      "top": null,
      "visibility": null,
      "width": null
     }
    },
    "dcd2f999830845908b324aa75b5b3633": {
     "model_module": "@jupyter-widgets/controls",
     "model_module_version": "1.5.0",
     "model_name": "FloatProgressModel",
     "state": {
      "_dom_classes": [],
      "_model_module": "@jupyter-widgets/controls",
      "_model_module_version": "1.5.0",
      "_model_name": "FloatProgressModel",
      "_view_count": null,
      "_view_module": "@jupyter-widgets/controls",
      "_view_module_version": "1.5.0",
      "_view_name": "ProgressView",
      "bar_style": "success",
      "description": "",
      "description_tooltip": null,
      "layout": "IPY_MODEL_e360f1a711de44dea8bf86cd3be51727",
      "max": 20169,
      "min": 0,
      "orientation": "horizontal",
      "style": "IPY_MODEL_962f8f4567f3412f95d031fbb9c269ad",
      "value": 20169
     }
    },
    "e037af3f7ff041a8a9de499e95dfcc2e": {
     "model_module": "@jupyter-widgets/base",
     "model_module_version": "1.2.0",
     "model_name": "LayoutModel",
     "state": {
      "_model_module": "@jupyter-widgets/base",
      "_model_module_version": "1.2.0",
      "_model_name": "LayoutModel",
      "_view_count": null,
      "_view_module": "@jupyter-widgets/base",
      "_view_module_version": "1.2.0",
      "_view_name": "LayoutView",
      "align_content": null,
      "align_items": null,
      "align_self": null,
      "border": null,
      "bottom": null,
      "display": null,
      "flex": null,
      "flex_flow": null,
      "grid_area": null,
      "grid_auto_columns": null,
      "grid_auto_flow": null,
      "grid_auto_rows": null,
      "grid_column": null,
      "grid_gap": null,
      "grid_row": null,
      "grid_template_areas": null,
      "grid_template_columns": null,
      "grid_template_rows": null,
      "height": null,
      "justify_content": null,
      "justify_items": null,
      "left": null,
      "margin": null,
      "max_height": null,
      "max_width": null,
      "min_height": null,
      "min_width": null,
      "object_fit": null,
      "object_position": null,
      "order": null,
      "overflow": null,
      "overflow_x": null,
      "overflow_y": null,
      "padding": null,
      "right": null,
      "top": null,
      "visibility": null,
      "width": null
     }
    },
    "e360f1a711de44dea8bf86cd3be51727": {
     "model_module": "@jupyter-widgets/base",
     "model_module_version": "1.2.0",
     "model_name": "LayoutModel",
     "state": {
      "_model_module": "@jupyter-widgets/base",
      "_model_module_version": "1.2.0",
      "_model_name": "LayoutModel",
      "_view_count": null,
      "_view_module": "@jupyter-widgets/base",
      "_view_module_version": "1.2.0",
      "_view_name": "LayoutView",
      "align_content": null,
      "align_items": null,
      "align_self": null,
      "border": null,
      "bottom": null,
      "display": null,
      "flex": null,
      "flex_flow": null,
      "grid_area": null,
      "grid_auto_columns": null,
      "grid_auto_flow": null,
      "grid_auto_rows": null,
      "grid_column": null,
      "grid_gap": null,
      "grid_row": null,
      "grid_template_areas": null,
      "grid_template_columns": null,
      "grid_template_rows": null,
      "height": null,
      "justify_content": null,
      "justify_items": null,
      "left": null,
      "margin": null,
      "max_height": null,
      "max_width": null,
      "min_height": null,
      "min_width": null,
      "object_fit": null,
      "object_position": null,
      "order": null,
      "overflow": null,
      "overflow_x": null,
      "overflow_y": null,
      "padding": null,
      "right": null,
      "top": null,
      "visibility": null,
      "width": null
     }
    },
    "e78d25c3916a4bc2a1f835f19d123f21": {
     "model_module": "@jupyter-widgets/controls",
     "model_module_version": "1.5.0",
     "model_name": "DescriptionStyleModel",
     "state": {
      "_model_module": "@jupyter-widgets/controls",
      "_model_module_version": "1.5.0",
      "_model_name": "DescriptionStyleModel",
      "_view_count": null,
      "_view_module": "@jupyter-widgets/base",
      "_view_module_version": "1.2.0",
      "_view_name": "StyleView",
      "description_width": ""
     }
    },
    "f74b32474aac49089b60502f399ec473": {
     "model_module": "@jupyter-widgets/controls",
     "model_module_version": "1.5.0",
     "model_name": "DescriptionStyleModel",
     "state": {
      "_model_module": "@jupyter-widgets/controls",
      "_model_module_version": "1.5.0",
      "_model_name": "DescriptionStyleModel",
      "_view_count": null,
      "_view_module": "@jupyter-widgets/base",
      "_view_module_version": "1.2.0",
      "_view_name": "StyleView",
      "description_width": ""
     }
    }
   }
  }
 },
 "nbformat": 4,
 "nbformat_minor": 5
}
