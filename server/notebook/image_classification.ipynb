{
 "cells": [
  {
   "cell_type": "markdown",
   "id": "fcbdbe3e",
   "metadata": {},
   "source": [
    "# Image Classification Using CNN\n",
    "- Convolutional Neural Network for image classification"
   ]
  },
  {
   "cell_type": "code",
   "execution_count": null,
   "id": "860bdefc",
   "metadata": {},
   "outputs": [],
   "source": []
  },
  {
   "cell_type": "code",
   "execution_count": 42,
   "id": "01de15a7",
   "metadata": {},
   "outputs": [],
   "source": [
    "import yaml\n",
    "import pandas as pd\n",
    "import numpy as np\n",
    "import matplotlib.pyplot as plt\n",
    "\n",
    "import tensorflow as tf\n",
    "from tensorflow import keras\n",
    "from keras.preprocessing.image import ImageDataGenerator\n",
    "from keras.datasets import cifar100"
   ]
  },
  {
   "cell_type": "code",
   "execution_count": 43,
   "id": "768dc0e3",
   "metadata": {},
   "outputs": [],
   "source": [
    "# declare image labels\n",
    "imagenette_map = { \n",
    "    \"n01440764\" : \"tench\",\n",
    "    \"n02102040\" : \"springer\",\n",
    "    \"n02979186\" : \"casette_player\",\n",
    "    \"n03000684\" : \"chain_saw\",\n",
    "    \"n03028079\" : \"church\",\n",
    "    \"n03394916\" : \"French_horn\",\n",
    "    \"n03417042\" : \"garbage_truck\",\n",
    "    \"n03425413\" : \"gas_pump\",\n",
    "    \"n03445777\" : \"golf_ball\",\n",
    "    \"n03888257\" : \"parachute\"\n",
    "}"
   ]
  },
  {
   "cell_type": "code",
   "execution_count": 44,
   "id": "48f597ee",
   "metadata": {},
   "outputs": [
    {
     "name": "stdout",
     "output_type": "stream",
     "text": [
      "Found 9469 images belonging to 10 classes.\n",
      "Found 3925 images belonging to 10 classes.\n"
     ]
    }
   ],
   "source": [
    "# load dataset (using ImageNet  for objects classification)\n",
    "# (X_train, y_train), (X_test, y_test) = cifar100.load_data()\n",
    "\n",
    "# load imagenet dataset\n",
    "image_generator = ImageDataGenerator()\n",
    "train = image_generator.flow_from_directory(\"../data/imagenette2/train/\", \n",
    "                                             class_mode=\"categorical\", \n",
    "                                             shuffle=False, \n",
    "                                             batch_size=32, \n",
    "                                             target_size=(224, 224))\n",
    "\n",
    "val = image_generator.flow_from_directory(\"../data/imagenette2/val/\", \n",
    "                                           class_mode=\"categorical\", \n",
    "                                           shuffle=False, \n",
    "                                           batch_size=32, \n",
    "                                           target_size=(224, 224))\n"
   ]
  },
  {
   "cell_type": "code",
   "execution_count": 45,
   "id": "88a778ac",
   "metadata": {},
   "outputs": [],
   "source": [
    "# # load image label\n",
    "# class ConfigLoader():\n",
    "#     def __init__(self):\n",
    "#         self.file_obj = None\n",
    "\n",
    "#     def loadYaml(self, filename):\n",
    "#         \"\"\"\n",
    "#             Read Parameter file in the form of yml\n",
    "#             The FullLoader parameter handles the conversion from YAML\n",
    "#             Scalar values to Python the dictionary format\n",
    "#         \"\"\"\n",
    "#         with open(f'{filename}', encoding='utf8') as file:\n",
    "#             file_obj = yaml.load(file, Loader=yaml.FullLoader)\n",
    "#         self.file_obj = file_obj\n",
    "#         return self.file_obj\n",
    "# labels = ConfigLoader().loadYaml(\"../data/CIFA100-labels.yml\")['labels']\n",
    "# labels"
   ]
  },
  {
   "cell_type": "code",
   "execution_count": 46,
   "id": "b6d8bd72",
   "metadata": {},
   "outputs": [],
   "source": [
    "# # display an image: A picture of a cow\n",
    "# print(\"Image Label: \", labels[y_train[0][0]])\n",
    "# plt.figure(figsize = (5,5)) \n",
    "# plt.imshow(X_train[0], interpolation='none')"
   ]
  },
  {
   "cell_type": "markdown",
   "id": "89bd1d4d",
   "metadata": {},
   "source": [
    "# Data Pre-Processing\n",
    "Data normalization and clensing"
   ]
  },
  {
   "cell_type": "code",
   "execution_count": 47,
   "id": "8a7e3d25",
   "metadata": {},
   "outputs": [],
   "source": [
    "# # generating a 32 x 32 x 3 input vector (for RGY)\n",
    "# X_train = X_train.reshape(X_train.shape[0], 32, 32, 3)\n",
    "# X_test = X_test.reshape(X_test.shape[0], 32, 32, 3)\n",
    "# X_train = X_train.astype('float32')\n",
    "# X_test = X_test.astype('float32')"
   ]
  },
  {
   "cell_type": "code",
   "execution_count": 48,
   "id": "ce571c14",
   "metadata": {},
   "outputs": [],
   "source": [
    "# normalizing the data to help with the training\n",
    "# X_train /= 255\n",
    "# X_test /= 255"
   ]
  },
  {
   "cell_type": "code",
   "execution_count": 49,
   "id": "e7721eeb",
   "metadata": {},
   "outputs": [],
   "source": [
    "# declare the number of unique labels\n",
    "# n_classes = len(set(y_train.reshape(1,-1)[0]))\n",
    "n_classes = 10"
   ]
  },
  {
   "cell_type": "markdown",
   "id": "d3e462dc",
   "metadata": {},
   "source": [
    "# Model Building\n",
    "Set up a convolutional network architecture to classify 100 class of images. Here, a 2 dimensional convolution is use because all images are flat."
   ]
  },
  {
   "cell_type": "code",
   "execution_count": 50,
   "id": "e6d1349e",
   "metadata": {},
   "outputs": [],
   "source": [
    "def conv_net(image_shape, hidden_dimensions=[512, 256], dropout_rate=0.25):\n",
    "    \"\"\"\n",
    "        setting up the Convolutional neural net\n",
    "    \"\"\"\n",
    "    \n",
    "    \n",
    "    source_image = keras.layers.Input(shape=image_shape, dtype='float32', name='source_image')\n",
    "    \n",
    "    # add consecutive convolutional layers for RGY colors\n",
    "    red_conv_layer = keras.layers.Conv2D(filters=100,\n",
    "                                              input_shape=image_shape,\n",
    "                                              kernel_size=(5,5), \n",
    "                                              strides=(1,1), \n",
    "                                              padding='same', \n",
    "                                              activation='relu',\n",
    "                                              name='red_convolutional_layer')\n",
    "    \n",
    "    green_conv_layer = keras.layers.Conv2D(filters=100,\n",
    "                                              kernel_size=(5,5), \n",
    "                                              strides=(1,1), \n",
    "                                              padding='same', \n",
    "                                              activation='relu',\n",
    "                                              name='green_convolutional_layer')\n",
    "    \n",
    "    blue_conv_layer = keras.layers.Conv2D(filters=100,\n",
    "                                              kernel_size=(5,5), \n",
    "                                              strides=(1,1), \n",
    "                                              padding='same', \n",
    "                                              activation='relu',\n",
    "                                              name='blue_convolutional_layer')\n",
    "    \n",
    "    conv_out = blue_conv_layer(green_conv_layer(red_conv_layer(source_image)))\n",
    "    \n",
    "    # applying max pooling\n",
    "    max_pooling_layer = keras.layers.MaxPool2D(pool_size=(2,2), name='first_max_pooling_layer')\n",
    "    max_pooling_out = max_pooling_layer(conv_out)\n",
    "    max_pooling_out = keras.layers.Dropout(rate=dropout_rate)(max_pooling_out)\n",
    "\n",
    "    \n",
    "    # add more convolutional_layers\n",
    "    # be sure to apply max pooling\n",
    "    conv_layer = keras.layers.Conv2D(filters=125,\n",
    "                                              kernel_size=(3,3), \n",
    "                                              strides=(1,1), \n",
    "                                              padding='same', \n",
    "                                              activation='relu',\n",
    "                                              name='convolutional_layer')\n",
    "    \n",
    "    conv_out = conv_layer(max_pooling_out)\n",
    "    max_pooling_layer = keras.layers.MaxPool2D(pool_size=(2,2))\n",
    "    max_pooling_out = max_pooling_layer(conv_out)\n",
    "    last_hidden_output = keras.layers.Dropout(rate=dropout_rate)(max_pooling_out)\n",
    "    last_hidden_output = keras.layers.Flatten()(last_hidden_output)\n",
    "\n",
    "    # add a fully connected feed-forward net\n",
    "    # some final dropout layer\n",
    "    # add final classification layer\n",
    "\n",
    "    for hidden_layer_size in hidden_dimensions:\n",
    "        last_hidden_output = keras.layers.Dense(hidden_layer_size, activation='relu')(last_hidden_output)\n",
    "\n",
    "    last_hidden_output = keras.layers.Dropout(rate=dropout_rate)(last_hidden_output)\n",
    "    image_classification = keras.layers.Dense(n_classes, activation='softmax')(last_hidden_output)\n",
    "\n",
    "    # instantiate and compile the model\n",
    "    conv_model = keras.Model(inputs=source_image, outputs=image_classification)\n",
    "    conv_model.compile(optimizer='Adam', \n",
    "                       loss='sparse_categorical_crossentropy', \n",
    "                       metrics=['accuracy'])\n",
    "    \n",
    "    return conv_model"
   ]
  },
  {
   "cell_type": "code",
   "execution_count": 51,
   "id": "8c6b534f",
   "metadata": {},
   "outputs": [
    {
     "name": "stdout",
     "output_type": "stream",
     "text": [
      "Model: \"model_2\"\n",
      "_________________________________________________________________\n",
      " Layer (type)                Output Shape              Param #   \n",
      "=================================================================\n",
      " source_image (InputLayer)   [(None, 32, 32, 3)]       0         \n",
      "                                                                 \n",
      " red_convolutional_layer (Co  (None, 32, 32, 100)      7600      \n",
      " nv2D)                                                           \n",
      "                                                                 \n",
      " green_convolutional_layer (  (None, 32, 32, 100)      250100    \n",
      " Conv2D)                                                         \n",
      "                                                                 \n",
      " blue_convolutional_layer (C  (None, 32, 32, 100)      250100    \n",
      " onv2D)                                                          \n",
      "                                                                 \n",
      " first_max_pooling_layer (Ma  (None, 16, 16, 100)      0         \n",
      " xPooling2D)                                                     \n",
      "                                                                 \n",
      " dropout_6 (Dropout)         (None, 16, 16, 100)       0         \n",
      "                                                                 \n",
      " convolutional_layer (Conv2D  (None, 16, 16, 125)      112625    \n",
      " )                                                               \n",
      "                                                                 \n",
      " max_pooling2d_2 (MaxPooling  (None, 8, 8, 125)        0         \n",
      " 2D)                                                             \n",
      "                                                                 \n",
      " dropout_7 (Dropout)         (None, 8, 8, 125)         0         \n",
      "                                                                 \n",
      " flatten_2 (Flatten)         (None, 8000)              0         \n",
      "                                                                 \n",
      " dense_6 (Dense)             (None, 512)               4096512   \n",
      "                                                                 \n",
      " dense_7 (Dense)             (None, 256)               131328    \n",
      "                                                                 \n",
      " dropout_8 (Dropout)         (None, 256)               0         \n",
      "                                                                 \n",
      " dense_8 (Dense)             (None, 10)                2570      \n",
      "                                                                 \n",
      "=================================================================\n",
      "Total params: 4,850,835\n",
      "Trainable params: 4,850,835\n",
      "Non-trainable params: 0\n",
      "_________________________________________________________________\n"
     ]
    }
   ],
   "source": [
    "image_classificaiton_model = conv_net(image_shape=(32,32,3))\n",
    "image_classificaiton_model.summary()"
   ]
  },
  {
   "cell_type": "code",
   "execution_count": 52,
   "id": "ac986576",
   "metadata": {
    "scrolled": true
   },
   "outputs": [
    {
     "data": {
      "image/png": "[encoded data removed]",
      "text/plain": [
       "<IPython.core.display.Image object>"
      ]
     },
     "execution_count": 52,
     "metadata": {},
     "output_type": "execute_result"
    }
   ],
   "source": [
    "keras.utils.plot_model(image_classificaiton_model, show_shapes=True, dpi=90)"
   ]
  },
  {
   "cell_type": "code",
   "execution_count": 53,
   "id": "f3ebe3c8",
   "metadata": {},
   "outputs": [],
   "source": [
    "# train the model\n",
    "# image_classificaiton_model.fit(X_train, y_train,\n",
    "#                                validation_split=0.1,\n",
    "#                                batch_size=256,\n",
    "#                                epochs=20)"
   ]
  },
  {
   "cell_type": "code",
   "execution_count": 54,
   "id": "6194f1e9",
   "metadata": {
    "scrolled": false
   },
   "outputs": [
    {
     "name": "stdout",
     "output_type": "stream",
     "text": [
      "Epoch 1/30\n"
     ]
    },
    {
     "ename": "InvalidArgumentError",
     "evalue": "Graph execution error:\n\nDetected at node 'Equal' defined at (most recent call last):\n    File \"C:\\Users\\ktrin\\miniconda3\\envs\\tf\\lib\\runpy.py\", line 197, in _run_module_as_main\n      return _run_code(code, main_globals, None,\n    File \"C:\\Users\\ktrin\\miniconda3\\envs\\tf\\lib\\runpy.py\", line 87, in _run_code\n      exec(code, run_globals)\n    File \"C:\\Users\\ktrin\\miniconda3\\envs\\tf\\lib\\site-packages\\ipykernel_launcher.py\", line 17, in <module>\n      app.launch_new_instance()\n    File \"C:\\Users\\ktrin\\miniconda3\\envs\\tf\\lib\\site-packages\\traitlets\\config\\application.py\", line 976, in launch_instance\n      app.start()\n    File \"C:\\Users\\ktrin\\miniconda3\\envs\\tf\\lib\\site-packages\\ipykernel\\kernelapp.py\", line 712, in start\n      self.io_loop.start()\n    File \"C:\\Users\\ktrin\\miniconda3\\envs\\tf\\lib\\site-packages\\tornado\\platform\\asyncio.py\", line 215, in start\n      self.asyncio_loop.run_forever()\n    File \"C:\\Users\\ktrin\\miniconda3\\envs\\tf\\lib\\asyncio\\base_events.py\", line 601, in run_forever\n      self._run_once()\n    File \"C:\\Users\\ktrin\\miniconda3\\envs\\tf\\lib\\asyncio\\base_events.py\", line 1905, in _run_once\n      handle._run()\n    File \"C:\\Users\\ktrin\\miniconda3\\envs\\tf\\lib\\asyncio\\events.py\", line 80, in _run\n      self._context.run(self._callback, *self._args)\n    File \"C:\\Users\\ktrin\\miniconda3\\envs\\tf\\lib\\site-packages\\ipykernel\\kernelbase.py\", line 510, in dispatch_queue\n      await self.process_one()\n    File \"C:\\Users\\ktrin\\miniconda3\\envs\\tf\\lib\\site-packages\\ipykernel\\kernelbase.py\", line 499, in process_one\n      await dispatch(*args)\n    File \"C:\\Users\\ktrin\\miniconda3\\envs\\tf\\lib\\site-packages\\ipykernel\\kernelbase.py\", line 406, in dispatch_shell\n      await result\n    File \"C:\\Users\\ktrin\\miniconda3\\envs\\tf\\lib\\site-packages\\ipykernel\\kernelbase.py\", line 730, in execute_request\n      reply_content = await reply_content\n    File \"C:\\Users\\ktrin\\miniconda3\\envs\\tf\\lib\\site-packages\\ipykernel\\ipkernel.py\", line 383, in do_execute\n      res = shell.run_cell(\n    File \"C:\\Users\\ktrin\\miniconda3\\envs\\tf\\lib\\site-packages\\ipykernel\\zmqshell.py\", line 528, in run_cell\n      return super().run_cell(*args, **kwargs)\n    File \"C:\\Users\\ktrin\\miniconda3\\envs\\tf\\lib\\site-packages\\IPython\\core\\interactiveshell.py\", line 2881, in run_cell\n      result = self._run_cell(\n    File \"C:\\Users\\ktrin\\miniconda3\\envs\\tf\\lib\\site-packages\\IPython\\core\\interactiveshell.py\", line 2936, in _run_cell\n      return runner(coro)\n    File \"C:\\Users\\ktrin\\miniconda3\\envs\\tf\\lib\\site-packages\\IPython\\core\\async_helpers.py\", line 129, in _pseudo_sync_runner\n      coro.send(None)\n    File \"C:\\Users\\ktrin\\miniconda3\\envs\\tf\\lib\\site-packages\\IPython\\core\\interactiveshell.py\", line 3135, in run_cell_async\n      has_raised = await self.run_ast_nodes(code_ast.body, cell_name,\n    File \"C:\\Users\\ktrin\\miniconda3\\envs\\tf\\lib\\site-packages\\IPython\\core\\interactiveshell.py\", line 3338, in run_ast_nodes\n      if await self.run_code(code, result, async_=asy):\n    File \"C:\\Users\\ktrin\\miniconda3\\envs\\tf\\lib\\site-packages\\IPython\\core\\interactiveshell.py\", line 3398, in run_code\n      exec(code_obj, self.user_global_ns, self.user_ns)\n    File \"C:\\Users\\ktrin\\AppData\\Local\\Temp\\ipykernel_288\\3049737726.py\", line 2, in <cell line: 2>\n      image_classificaiton_model.fit(train,\n    File \"C:\\Users\\ktrin\\miniconda3\\envs\\tf\\lib\\site-packages\\keras\\utils\\traceback_utils.py\", line 64, in error_handler\n      return fn(*args, **kwargs)\n    File \"C:\\Users\\ktrin\\miniconda3\\envs\\tf\\lib\\site-packages\\keras\\engine\\training.py\", line 1409, in fit\n      tmp_logs = self.train_function(iterator)\n    File \"C:\\Users\\ktrin\\miniconda3\\envs\\tf\\lib\\site-packages\\keras\\engine\\training.py\", line 1051, in train_function\n      return step_function(self, iterator)\n    File \"C:\\Users\\ktrin\\miniconda3\\envs\\tf\\lib\\site-packages\\keras\\engine\\training.py\", line 1040, in step_function\n      outputs = model.distribute_strategy.run(run_step, args=(data,))\n    File \"C:\\Users\\ktrin\\miniconda3\\envs\\tf\\lib\\site-packages\\keras\\engine\\training.py\", line 1030, in run_step\n      outputs = model.train_step(data)\n    File \"C:\\Users\\ktrin\\miniconda3\\envs\\tf\\lib\\site-packages\\keras\\engine\\training.py\", line 894, in train_step\n      return self.compute_metrics(x, y, y_pred, sample_weight)\n    File \"C:\\Users\\ktrin\\miniconda3\\envs\\tf\\lib\\site-packages\\keras\\engine\\training.py\", line 987, in compute_metrics\n      self.compiled_metrics.update_state(y, y_pred, sample_weight)\n    File \"C:\\Users\\ktrin\\miniconda3\\envs\\tf\\lib\\site-packages\\keras\\engine\\compile_utils.py\", line 501, in update_state\n      metric_obj.update_state(y_t, y_p, sample_weight=mask)\n    File \"C:\\Users\\ktrin\\miniconda3\\envs\\tf\\lib\\site-packages\\keras\\utils\\metrics_utils.py\", line 70, in decorated\n      update_op = update_state_fn(*args, **kwargs)\n    File \"C:\\Users\\ktrin\\miniconda3\\envs\\tf\\lib\\site-packages\\keras\\metrics\\base_metric.py\", line 140, in update_state_fn\n      return ag_update_state(*args, **kwargs)\n    File \"C:\\Users\\ktrin\\miniconda3\\envs\\tf\\lib\\site-packages\\keras\\metrics\\base_metric.py\", line 646, in update_state\n      matches = ag_fn(y_true, y_pred, **self._fn_kwargs)\n    File \"C:\\Users\\ktrin\\miniconda3\\envs\\tf\\lib\\site-packages\\keras\\metrics\\metrics.py\", line 3295, in categorical_accuracy\n      return metrics_utils.sparse_categorical_matches(\n    File \"C:\\Users\\ktrin\\miniconda3\\envs\\tf\\lib\\site-packages\\keras\\utils\\metrics_utils.py\", line 893, in sparse_categorical_matches\n      matches = tf.cast(tf.equal(y_true, y_pred), backend.floatx())\nNode: 'Equal'\nrequired broadcastable shapes\n\t [[{{node Equal}}]] [Op:__inference_train_function_2509]",
     "output_type": "error",
     "traceback": [
      "\u001b[1;31m---------------------------------------------------------------------------\u001b[0m",
      "\u001b[1;31mInvalidArgumentError\u001b[0m                      Traceback (most recent call last)",
      "Input \u001b[1;32mIn [54]\u001b[0m, in \u001b[0;36m<cell line: 2>\u001b[1;34m()\u001b[0m\n\u001b[0;32m      1\u001b[0m \u001b[38;5;66;03m# train the model\u001b[39;00m\n\u001b[1;32m----> 2\u001b[0m \u001b[43mimage_classificaiton_model\u001b[49m\u001b[38;5;241;43m.\u001b[39;49m\u001b[43mfit\u001b[49m\u001b[43m(\u001b[49m\u001b[43mtrain\u001b[49m\u001b[43m,\u001b[49m\n\u001b[0;32m      3\u001b[0m \u001b[43m                               \u001b[49m\u001b[43mvalidation_data\u001b[49m\u001b[38;5;241;43m=\u001b[39;49m\u001b[43mval\u001b[49m\u001b[43m,\u001b[49m\n\u001b[0;32m      4\u001b[0m \u001b[43m                               \u001b[49m\u001b[43mepochs\u001b[49m\u001b[38;5;241;43m=\u001b[39;49m\u001b[38;5;241;43m30\u001b[39;49m\u001b[43m)\u001b[49m\n",
      "File \u001b[1;32m~\\miniconda3\\envs\\tf\\lib\\site-packages\\keras\\utils\\traceback_utils.py:67\u001b[0m, in \u001b[0;36mfilter_traceback.<locals>.error_handler\u001b[1;34m(*args, **kwargs)\u001b[0m\n\u001b[0;32m     65\u001b[0m \u001b[38;5;28;01mexcept\u001b[39;00m \u001b[38;5;167;01mException\u001b[39;00m \u001b[38;5;28;01mas\u001b[39;00m e:  \u001b[38;5;66;03m# pylint: disable=broad-except\u001b[39;00m\n\u001b[0;32m     66\u001b[0m   filtered_tb \u001b[38;5;241m=\u001b[39m _process_traceback_frames(e\u001b[38;5;241m.\u001b[39m__traceback__)\n\u001b[1;32m---> 67\u001b[0m   \u001b[38;5;28;01mraise\u001b[39;00m e\u001b[38;5;241m.\u001b[39mwith_traceback(filtered_tb) \u001b[38;5;28;01mfrom\u001b[39;00m \u001b[38;5;28mNone\u001b[39m\n\u001b[0;32m     68\u001b[0m \u001b[38;5;28;01mfinally\u001b[39;00m:\n\u001b[0;32m     69\u001b[0m   \u001b[38;5;28;01mdel\u001b[39;00m filtered_tb\n",
      "File \u001b[1;32m~\\miniconda3\\envs\\tf\\lib\\site-packages\\tensorflow\\python\\eager\\execute.py:54\u001b[0m, in \u001b[0;36mquick_execute\u001b[1;34m(op_name, num_outputs, inputs, attrs, ctx, name)\u001b[0m\n\u001b[0;32m     52\u001b[0m \u001b[38;5;28;01mtry\u001b[39;00m:\n\u001b[0;32m     53\u001b[0m   ctx\u001b[38;5;241m.\u001b[39mensure_initialized()\n\u001b[1;32m---> 54\u001b[0m   tensors \u001b[38;5;241m=\u001b[39m pywrap_tfe\u001b[38;5;241m.\u001b[39mTFE_Py_Execute(ctx\u001b[38;5;241m.\u001b[39m_handle, device_name, op_name,\n\u001b[0;32m     55\u001b[0m                                       inputs, attrs, num_outputs)\n\u001b[0;32m     56\u001b[0m \u001b[38;5;28;01mexcept\u001b[39;00m core\u001b[38;5;241m.\u001b[39m_NotOkStatusException \u001b[38;5;28;01mas\u001b[39;00m e:\n\u001b[0;32m     57\u001b[0m   \u001b[38;5;28;01mif\u001b[39;00m name \u001b[38;5;129;01mis\u001b[39;00m \u001b[38;5;129;01mnot\u001b[39;00m \u001b[38;5;28;01mNone\u001b[39;00m:\n",
      "\u001b[1;31mInvalidArgumentError\u001b[0m: Graph execution error:\n\nDetected at node 'Equal' defined at (most recent call last):\n    File \"C:\\Users\\ktrin\\miniconda3\\envs\\tf\\lib\\runpy.py\", line 197, in _run_module_as_main\n      return _run_code(code, main_globals, None,\n    File \"C:\\Users\\ktrin\\miniconda3\\envs\\tf\\lib\\runpy.py\", line 87, in _run_code\n      exec(code, run_globals)\n    File \"C:\\Users\\ktrin\\miniconda3\\envs\\tf\\lib\\site-packages\\ipykernel_launcher.py\", line 17, in <module>\n      app.launch_new_instance()\n    File \"C:\\Users\\ktrin\\miniconda3\\envs\\tf\\lib\\site-packages\\traitlets\\config\\application.py\", line 976, in launch_instance\n      app.start()\n    File \"C:\\Users\\ktrin\\miniconda3\\envs\\tf\\lib\\site-packages\\ipykernel\\kernelapp.py\", line 712, in start\n      self.io_loop.start()\n    File \"C:\\Users\\ktrin\\miniconda3\\envs\\tf\\lib\\site-packages\\tornado\\platform\\asyncio.py\", line 215, in start\n      self.asyncio_loop.run_forever()\n    File \"C:\\Users\\ktrin\\miniconda3\\envs\\tf\\lib\\asyncio\\base_events.py\", line 601, in run_forever\n      self._run_once()\n    File \"C:\\Users\\ktrin\\miniconda3\\envs\\tf\\lib\\asyncio\\base_events.py\", line 1905, in _run_once\n      handle._run()\n    File \"C:\\Users\\ktrin\\miniconda3\\envs\\tf\\lib\\asyncio\\events.py\", line 80, in _run\n      self._context.run(self._callback, *self._args)\n    File \"C:\\Users\\ktrin\\miniconda3\\envs\\tf\\lib\\site-packages\\ipykernel\\kernelbase.py\", line 510, in dispatch_queue\n      await self.process_one()\n    File \"C:\\Users\\ktrin\\miniconda3\\envs\\tf\\lib\\site-packages\\ipykernel\\kernelbase.py\", line 499, in process_one\n      await dispatch(*args)\n    File \"C:\\Users\\ktrin\\miniconda3\\envs\\tf\\lib\\site-packages\\ipykernel\\kernelbase.py\", line 406, in dispatch_shell\n      await result\n    File \"C:\\Users\\ktrin\\miniconda3\\envs\\tf\\lib\\site-packages\\ipykernel\\kernelbase.py\", line 730, in execute_request\n      reply_content = await reply_content\n    File \"C:\\Users\\ktrin\\miniconda3\\envs\\tf\\lib\\site-packages\\ipykernel\\ipkernel.py\", line 383, in do_execute\n      res = shell.run_cell(\n    File \"C:\\Users\\ktrin\\miniconda3\\envs\\tf\\lib\\site-packages\\ipykernel\\zmqshell.py\", line 528, in run_cell\n      return super().run_cell(*args, **kwargs)\n    File \"C:\\Users\\ktrin\\miniconda3\\envs\\tf\\lib\\site-packages\\IPython\\core\\interactiveshell.py\", line 2881, in run_cell\n      result = self._run_cell(\n    File \"C:\\Users\\ktrin\\miniconda3\\envs\\tf\\lib\\site-packages\\IPython\\core\\interactiveshell.py\", line 2936, in _run_cell\n      return runner(coro)\n    File \"C:\\Users\\ktrin\\miniconda3\\envs\\tf\\lib\\site-packages\\IPython\\core\\async_helpers.py\", line 129, in _pseudo_sync_runner\n      coro.send(None)\n    File \"C:\\Users\\ktrin\\miniconda3\\envs\\tf\\lib\\site-packages\\IPython\\core\\interactiveshell.py\", line 3135, in run_cell_async\n      has_raised = await self.run_ast_nodes(code_ast.body, cell_name,\n    File \"C:\\Users\\ktrin\\miniconda3\\envs\\tf\\lib\\site-packages\\IPython\\core\\interactiveshell.py\", line 3338, in run_ast_nodes\n      if await self.run_code(code, result, async_=asy):\n    File \"C:\\Users\\ktrin\\miniconda3\\envs\\tf\\lib\\site-packages\\IPython\\core\\interactiveshell.py\", line 3398, in run_code\n      exec(code_obj, self.user_global_ns, self.user_ns)\n    File \"C:\\Users\\ktrin\\AppData\\Local\\Temp\\ipykernel_288\\3049737726.py\", line 2, in <cell line: 2>\n      image_classificaiton_model.fit(train,\n    File \"C:\\Users\\ktrin\\miniconda3\\envs\\tf\\lib\\site-packages\\keras\\utils\\traceback_utils.py\", line 64, in error_handler\n      return fn(*args, **kwargs)\n    File \"C:\\Users\\ktrin\\miniconda3\\envs\\tf\\lib\\site-packages\\keras\\engine\\training.py\", line 1409, in fit\n      tmp_logs = self.train_function(iterator)\n    File \"C:\\Users\\ktrin\\miniconda3\\envs\\tf\\lib\\site-packages\\keras\\engine\\training.py\", line 1051, in train_function\n      return step_function(self, iterator)\n    File \"C:\\Users\\ktrin\\miniconda3\\envs\\tf\\lib\\site-packages\\keras\\engine\\training.py\", line 1040, in step_function\n      outputs = model.distribute_strategy.run(run_step, args=(data,))\n    File \"C:\\Users\\ktrin\\miniconda3\\envs\\tf\\lib\\site-packages\\keras\\engine\\training.py\", line 1030, in run_step\n      outputs = model.train_step(data)\n    File \"C:\\Users\\ktrin\\miniconda3\\envs\\tf\\lib\\site-packages\\keras\\engine\\training.py\", line 894, in train_step\n      return self.compute_metrics(x, y, y_pred, sample_weight)\n    File \"C:\\Users\\ktrin\\miniconda3\\envs\\tf\\lib\\site-packages\\keras\\engine\\training.py\", line 987, in compute_metrics\n      self.compiled_metrics.update_state(y, y_pred, sample_weight)\n    File \"C:\\Users\\ktrin\\miniconda3\\envs\\tf\\lib\\site-packages\\keras\\engine\\compile_utils.py\", line 501, in update_state\n      metric_obj.update_state(y_t, y_p, sample_weight=mask)\n    File \"C:\\Users\\ktrin\\miniconda3\\envs\\tf\\lib\\site-packages\\keras\\utils\\metrics_utils.py\", line 70, in decorated\n      update_op = update_state_fn(*args, **kwargs)\n    File \"C:\\Users\\ktrin\\miniconda3\\envs\\tf\\lib\\site-packages\\keras\\metrics\\base_metric.py\", line 140, in update_state_fn\n      return ag_update_state(*args, **kwargs)\n    File \"C:\\Users\\ktrin\\miniconda3\\envs\\tf\\lib\\site-packages\\keras\\metrics\\base_metric.py\", line 646, in update_state\n      matches = ag_fn(y_true, y_pred, **self._fn_kwargs)\n    File \"C:\\Users\\ktrin\\miniconda3\\envs\\tf\\lib\\site-packages\\keras\\metrics\\metrics.py\", line 3295, in categorical_accuracy\n      return metrics_utils.sparse_categorical_matches(\n    File \"C:\\Users\\ktrin\\miniconda3\\envs\\tf\\lib\\site-packages\\keras\\utils\\metrics_utils.py\", line 893, in sparse_categorical_matches\n      matches = tf.cast(tf.equal(y_true, y_pred), backend.floatx())\nNode: 'Equal'\nrequired broadcastable shapes\n\t [[{{node Equal}}]] [Op:__inference_train_function_2509]"
     ]
    }
   ],
   "source": [
    "# train the model\n",
    "image_classificaiton_model.fit(train,\n",
    "                               validation_data=val,\n",
    "                               epochs=30)"
   ]
  },
  {
   "cell_type": "code",
   "execution_count": 54,
   "id": "58e3084e",
   "metadata": {},
   "outputs": [
    {
     "data": {
      "text/plain": [
       "[<keras.engine.input_layer.InputLayer at 0x18cc123c9d0>,\n",
       " <keras.layers.convolutional.conv2d.Conv2D at 0x18e90008ac0>,\n",
       " <keras.layers.convolutional.conv2d.Conv2D at 0x18cbf3de520>,\n",
       " <keras.layers.convolutional.conv2d.Conv2D at 0x18cbf4a1820>,\n",
       " <keras.layers.pooling.max_pooling2d.MaxPooling2D at 0x18cc127a310>,\n",
       " <keras.layers.regularization.dropout.Dropout at 0x18cc127a9d0>,\n",
       " <keras.layers.convolutional.conv2d.Conv2D at 0x18cc127f850>,\n",
       " <keras.layers.pooling.max_pooling2d.MaxPooling2D at 0x18cc127f8b0>,\n",
       " <keras.layers.regularization.dropout.Dropout at 0x18cc1280040>,\n",
       " <keras.layers.reshaping.flatten.Flatten at 0x18cc1280220>,\n",
       " <keras.layers.core.dense.Dense at 0x18cc127bdf0>,\n",
       " <keras.layers.core.dense.Dense at 0x18cc1281910>,\n",
       " <keras.layers.regularization.dropout.Dropout at 0x18cc1287a60>,\n",
       " <keras.layers.core.dense.Dense at 0x18cc1287b50>]"
      ]
     },
     "execution_count": 54,
     "metadata": {},
     "output_type": "execute_result"
    }
   ],
   "source": [
    "# all layers of CNN\n",
    "CNN_model = image_classificaiton_model\n",
    "CNN_model.layers"
   ]
  },
  {
   "cell_type": "code",
   "execution_count": 55,
   "id": "4eade4a9",
   "metadata": {},
   "outputs": [],
   "source": [
    "model2(X_test[0].reshape(1,32,32,3)).shape"
   ]
  },
  {
   "cell_type": "code",
   "execution_count": null,
   "id": "979e204a",
   "metadata": {
    "scrolled": false
   },
   "outputs": [],
   "source": []
  },
  {
   "cell_type": "markdown",
   "id": "e8af1378",
   "metadata": {},
   "source": [
    "# Preprocessing COCO Image Dataset\n",
    "Load latest coco dataset/preporcessed it on caption"
   ]
  },
  {
   "cell_type": "code",
   "execution_count": 60,
   "id": "268b6ffb",
   "metadata": {},
   "outputs": [
    {
     "name": "stdout",
     "output_type": "stream",
     "text": [
      "Train:\n",
      " [(203564, 'train2014/000000203564.jpg', 'A bicycle replica with a clock as the front wheel.'), (322141, 'train2014/000000322141.jpg', 'A room with blue walls and a white sink and door.'), (16977, 'train2014/000000016977.jpg', 'A car that seems to be parked illegally behind a legally parked car'), (106140, 'train2014/000000106140.jpg', 'A large passenger airplane flying through the air.'), (106140, 'train2014/000000106140.jpg', 'There is a GOL plane taking off in a partly cloudy sky.')]\n",
      "Validation:\n",
      " [(179765, 'val2014/000000179765.jpg', 'A black Honda motorcycle parked in front of a garage.'), (179765, 'val2014/000000179765.jpg', 'A Honda motorcycle parked in a grass driveway'), (190236, 'val2014/000000190236.jpg', 'An office cubicle with four different types of computers.'), (331352, 'val2014/000000331352.jpg', 'A small closed toilet in a cramped space.'), (517069, 'val2014/000000517069.jpg', 'Two women waiting at a bench next to a street.')]\n"
     ]
    }
   ],
   "source": [
    "import json\n",
    "\n",
    "train2017 = []\n",
    "val2017 = []\n",
    "\n",
    "# load in the data \n",
    "train_file = open(\"../data/annotations/captions_train2017.json\")\n",
    "val_file = open(\"../data//annotations/captions_val2017.json\")\n",
    "train_json = json.load(train_file)\n",
    "val_json = json.load(val_file)\n",
    "# train_json['caption']\n",
    "\n",
    "def parse_image(json_data, output_list=train2017, mode=\"train\"):\n",
    "    \"\"\"\n",
    "        Class to parse image into a list of tuple\n",
    "        -----------------------------------------\n",
    "        Input:\n",
    "        - json_data: dataset in json format\n",
    "        - output_list: empty list to store the tuple of data\n",
    "        - mode: either train dataset or validation dataset specification\n",
    "        Output:\n",
    "        - list of tuple\n",
    "    \"\"\"\n",
    "    prepend_urL = \"\"\n",
    "    if mode == \"train\":\n",
    "        prepend_urL = \"train2014/\"\n",
    "    elif mode == \"validation\":\n",
    "        prepend_urL = \"val2014/\"\n",
    "    else:\n",
    "        print(\"Please Input Train or Validation for dataset parameters\")\n",
    "    \n",
    "    # fetch the data in a workable format\n",
    "    captions = json_data['annotations']\n",
    "    images = {i[\"id\"]: i[\"file_name\"] for i in json_data['images']}\n",
    "\n",
    "    # parse json data into a tuple to generate a list of tuples for both train/validation\n",
    "    for caption in captions:\n",
    "        image_id = caption['image_id']\n",
    "        image_caption = caption['caption']\n",
    "        image_url = prepend_urL+images[image_id]\n",
    "        output_list.append((image_id, image_url, image_caption))\n",
    "    return output_list\n",
    "\n",
    "\n",
    "train2017 = parse_image(train_json, output_list=train2017, mode=\"train\")\n",
    "val2017 = parse_image(val_json, output_list=val2017, mode=\"validation\")\n",
    "print(\"Train:\\n\", train2017[:5])\n",
    "print(\"Validation:\\n\", val2017[:5])\n"
   ]
  },
  {
   "cell_type": "code",
   "execution_count": 64,
   "id": "2a1c1374",
   "metadata": {},
   "outputs": [
    {
     "name": "stdout",
     "output_type": "stream",
     "text": [
      "Found 0 images belonging to 0 classes.\n"
     ]
    }
   ],
   "source": [
    "image_generator = ImageDataGenerator(rescale=1./255)\n",
    "train = image_generator.flow_from_directory(\"../data/train2017/\", \n",
    "                                             class_mode=\"categorical\", \n",
    "                                             shuffle=False, \n",
    "                                             batch_size=128, \n",
    "                                             target_size=(3, 3))"
   ]
  },
  {
   "cell_type": "markdown",
   "id": "10af390d",
   "metadata": {},
   "source": [
    "# CNN to LSTM \n",
    "Remove the classification head. Append final hidden layer as initial state to an LSTM"
   ]
  },
  {
   "cell_type": "code",
   "execution_count": null,
   "id": "f903402e",
   "metadata": {},
   "outputs": [],
   "source": [
    "def image_captioning_network(CNN_model):\n",
    "    def conv_net(image_shape, hidden_dimensions=[128], dropout_rate=0.25):\n",
    "    \"\"\"\n",
    "        setting up the Convolutional neural net\n",
    "    \"\"\"\n",
    "    \n",
    "    \n",
    "    source_image = keras.layers.Input(shape=image_shape, dtype='float32', name='source_image')\n",
    "    image_model = tf.keras.Model(inputs=CNN_model.input, outputs=CNN_model.get_layer('dense_5').output)\n",
    "    \n",
    "    source_image_embedding = image_model(source_image)\n",
    "    lstm_layer = keras.layers.LSTM(512, return_sequences=True, return_state=True)\n",
    "    \n",
    "    conv_out = conv_layer(max_pooling_out)\n",
    "    max_pooling_layer = keras.layers.MaxPool2D(pool_size=(2,2))\n",
    "    max_pooling_out = max_pooling_layer(conv_out)\n",
    "    last_hidden_output = keras.layers.Dropout(rate=dropout_rate)(max_pooling_out)\n",
    "    last_hidden_output = keras.layers.Flatten()(last_hidden_output)\n",
    "\n",
    "    # add a fully connected feed-forward net\n",
    "    # some final dropout layer\n",
    "    # add final classification layer\n",
    "\n",
    "    for hidden_layer_size in hidden_dimensions:\n",
    "        last_hidden_output = keras.layers.Dense(hidden_layer_size, activation='relu')(last_hidden_output)\n",
    "\n",
    "    last_hidden_output = keras.layers.Dropout(rate=dropout_rate)(last_hidden_output)\n",
    "    image_classification = keras.layers.Dense(n_classes, activation='softmax')(last_hidden_output)\n",
    "\n",
    "    # instantiate and compile the model\n",
    "    conv_model = keras.Model(inputs=source_image, outputs=image_classification)\n",
    "    conv_model.compile(optimizer='Adam', \n",
    "                       loss='sparse_categorical_crossentropy', \n",
    "                       metrics=['accuracy'])\n",
    "    \n",
    "    return conv_model"
   ]
  }
 ],
 "metadata": {
  "kernelspec": {
   "display_name": "Python 3.9.12 ('base')",
   "language": "python",
   "name": "python3"
  },
  "language_info": {
   "codemirror_mode": {
    "name": "ipython",
    "version": 3
   },
   "file_extension": ".py",
   "mimetype": "text/x-python",
   "name": "python",
   "nbconvert_exporter": "python",
   "pygments_lexer": "ipython3",
   "version": "3.9.12"
  },
  "vscode": {
   "interpreter": {
    "hash": "a4c858e9dbf5a52872cd05847dca8201cfa6512cbc8e184d871682ac09ab44b0"
   }
  }
 },
 "nbformat": 4,
 "nbformat_minor": 5
}
