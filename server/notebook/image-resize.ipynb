{
 "cells": [
  {
   "cell_type": "markdown",
   "id": "bebe7680",
   "metadata": {},
   "source": [
    "# Image Resize\n",
    "Resizing Image  to fit VGG16 Model Input"
   ]
  },
  {
   "cell_type": "code",
   "execution_count": 1,
   "id": "9f73ccd3",
   "metadata": {},
   "outputs": [
    {
     "name": "stdout",
     "output_type": "stream",
     "text": [
      "Start resizing images.\n"
     ]
    },
    {
     "data": {
      "application/vnd.jupyter.widget-view+json": {
       "model_id": "55e85eee977a4e0cb808372b85ecd70b",
       "version_major": 2,
       "version_minor": 0
      },
      "text/plain": [
       "0it [00:00, ?it/s]"
      ]
     },
     "metadata": {},
     "output_type": "display_data"
    },
    {
     "name": "stderr",
     "output_type": "stream",
     "text": [
      "C:\\Users\\ktrin\\AppData\\Local\\Temp\\ipykernel_24388\\2887318917.py:23: DeprecationWarning: ANTIALIAS is deprecated and will be removed in Pillow 10 (2023-07-01). Use Resampling.LANCZOS instead.\n",
      "  image = image.resize([224, 224], Image.ANTIALIAS)\n"
     ]
    }
   ],
   "source": [
    "import os\n",
    "from PIL import Image\n",
    "from tqdm.notebook import tqdm\n",
    "\n",
    "\n",
    "def resize_image(image):\n",
    "    \"\"\"\n",
    "        Resize Image to fit VGG16 Imagenet input dimension\n",
    "        dim = (224 x 224 x 3)\n",
    "    \"\"\"\n",
    "    width, height = image.size\n",
    "    if width > height:\n",
    "        left = (width - height) / 2\n",
    "        right = width - left\n",
    "        top = 0\n",
    "        bottom = height\n",
    "    else:\n",
    "        top = (height - width) / 2\n",
    "        bottom = height - top\n",
    "        left = 0\n",
    "        right = width\n",
    "    image = image.crop((left, top, right, bottom))\n",
    "    image = image.resize([224, 224], Image.LANCZOS)\n",
    "    return image\n",
    "\n",
    "\n",
    "def main():\n",
    "    folder = '../data/train2017/'\n",
    "    resized_folder = '../data/train2017_resized'\n",
    "    if not os.path.exists(resized_folder):\n",
    "        os.makedirs(resized_folder)\n",
    "    print('Start resizing images.')\n",
    "    image_files = os.listdir(folder)\n",
    "    num_images = len(image_files)\n",
    "    for i, image_file in tqdm(enumerate(image_files)):\n",
    "        with open(os.path.join(folder, image_file), 'r+b') as f:\n",
    "            with Image.open(f) as image:\n",
    "                image = resize_image(image)\n",
    "                image.save(os.path.join(resized_folder, image_file), image.format)\n",
    "              \n",
    "            \n",
    "main()"
   ]
  },
  {
   "cell_type": "code",
   "execution_count": null,
   "id": "39fddbff",
   "metadata": {},
   "outputs": [],
   "source": []
  }
 ],
 "metadata": {
  "kernelspec": {
   "display_name": "Python 3.9.12 ('base')",
   "language": "python",
   "name": "python3"
  },
  "language_info": {
   "codemirror_mode": {
    "name": "ipython",
    "version": 3
   },
   "file_extension": ".py",
   "mimetype": "text/x-python",
   "name": "python",
   "nbconvert_exporter": "python",
   "pygments_lexer": "ipython3",
   "version": "3.9.12"
  },
  "vscode": {
   "interpreter": {
    "hash": "a4c858e9dbf5a52872cd05847dca8201cfa6512cbc8e184d871682ac09ab44b0"
   }
  }
 },
 "nbformat": 4,
 "nbformat_minor": 5
}
